{
  "nbformat": 4,
  "nbformat_minor": 0,
  "metadata": {
    "colab": {
      "name": "Data Structure.ipynb",
      "provenance": [],
      "authorship_tag": "ABX9TyP/h2DJbc8ueRirKokuTqZG",
      "include_colab_link": true
    },
    "kernelspec": {
      "name": "python3",
      "display_name": "Python 3"
    },
    "language_info": {
      "name": "python"
    }
  },
  "cells": [
    {
      "cell_type": "markdown",
      "metadata": {
        "id": "view-in-github",
        "colab_type": "text"
      },
      "source": [
        "<a href=\"https://colab.research.google.com/github/naruemonssp/data_viz_2022/blob/main/Data_Structure.ipynb\" target=\"_parent\"><img src=\"https://colab.research.google.com/assets/colab-badge.svg\" alt=\"Open In Colab\"/></a>"
      ]
    },
    {
      "cell_type": "markdown",
      "source": [
        "## Data Structure (โครงสร้างข้อมูล)"
      ],
      "metadata": {
        "id": "dnr5JczB6F__"
      }
    },
    {
      "cell_type": "markdown",
      "source": [
        "การเก็บข้อมูลหลายๆตัวไว้ด้วยกันอย่างเป็นระเบียบ"
      ],
      "metadata": {
        "id": "CXzq_3jv6cz-"
      }
    },
    {
      "cell_type": "markdown",
      "source": [
        "### ```list()```"
      ],
      "metadata": {
        "id": "h3nJKfhB6jLG"
      }
    },
    {
      "cell_type": "markdown",
      "source": [
        "*   เก็บอะไรก็ได้\n",
        "*   ลำดับในการเก็บ มีความสำคัญ\n",
        "\n"
      ],
      "metadata": {
        "id": "0BhVPMF5723s"
      }
    },
    {
      "cell_type": "code",
      "source": [
        "list_a = [1,2,3,4,5,6]  ##[ ] square brackets"
      ],
      "metadata": {
        "id": "nspkZ9Nh6Fvs"
      },
      "execution_count": 1,
      "outputs": []
    },
    {
      "cell_type": "code",
      "execution_count": 2,
      "metadata": {
        "colab": {
          "base_uri": "https://localhost:8080/"
        },
        "id": "R5on-Wad40nl",
        "outputId": "44512c5e-09c6-4327-e3ea-ee91121a900f"
      },
      "outputs": [
        {
          "output_type": "execute_result",
          "data": {
            "text/plain": [
              "[1, 2, 3, 4, 5, 6]"
            ]
          },
          "metadata": {},
          "execution_count": 2
        }
      ],
      "source": [
        "list_a"
      ]
    },
    {
      "cell_type": "code",
      "source": [
        "list_b = ['ab',2,3.14,list_a]"
      ],
      "metadata": {
        "id": "cZ_LqnMm8KHg"
      },
      "execution_count": 3,
      "outputs": []
    },
    {
      "cell_type": "code",
      "source": [
        "list_b"
      ],
      "metadata": {
        "colab": {
          "base_uri": "https://localhost:8080/"
        },
        "id": "0Q_7z_b68K-B",
        "outputId": "a4140675-de30-4faf-ce17-a61fa85df5cc"
      },
      "execution_count": 4,
      "outputs": [
        {
          "output_type": "execute_result",
          "data": {
            "text/plain": [
              "['ab', 2, 3.14, [1, 2, 3, 4, 5, 6]]"
            ]
          },
          "metadata": {},
          "execution_count": 4
        }
      ]
    },
    {
      "cell_type": "markdown",
      "source": [
        "### Indexing การชี้สมาชิกใน list ด้วยเลขลำดับของ list"
      ],
      "metadata": {
        "id": "tKCjgSg38SpK"
      }
    },
    {
      "cell_type": "code",
      "source": [
        "list_a[3]   # ดึงข้อมูลตัวที่ 3 ของ list_a (เริ่มนับจาก 0,1,2,...,)"
      ],
      "metadata": {
        "colab": {
          "base_uri": "https://localhost:8080/"
        },
        "id": "0qqMig4O8Rhz",
        "outputId": "6cbcff33-645e-4b9c-fc78-011a410ba2d9"
      },
      "execution_count": 5,
      "outputs": [
        {
          "output_type": "execute_result",
          "data": {
            "text/plain": [
              "4"
            ]
          },
          "metadata": {},
          "execution_count": 5
        }
      ]
    },
    {
      "cell_type": "code",
      "source": [
        "list_b[3]"
      ],
      "metadata": {
        "colab": {
          "base_uri": "https://localhost:8080/"
        },
        "id": "TI64D5H58eki",
        "outputId": "eced5db1-fc92-40b9-e24f-2a65383f4680"
      },
      "execution_count": 6,
      "outputs": [
        {
          "output_type": "execute_result",
          "data": {
            "text/plain": [
              "[1, 2, 3, 4, 5, 6]"
            ]
          },
          "metadata": {},
          "execution_count": 6
        }
      ]
    },
    {
      "cell_type": "code",
      "source": [
        "list_b[3][4]"
      ],
      "metadata": {
        "colab": {
          "base_uri": "https://localhost:8080/"
        },
        "id": "yuJk8Tun8hcF",
        "outputId": "4dd8472b-be31-43cd-a218-cd8626964b34"
      },
      "execution_count": 7,
      "outputs": [
        {
          "output_type": "execute_result",
          "data": {
            "text/plain": [
              "5"
            ]
          },
          "metadata": {},
          "execution_count": 7
        }
      ]
    },
    {
      "cell_type": "code",
      "source": [
        "list_a[-1]  ## index -1 คือตัวสุดท้ายของ list"
      ],
      "metadata": {
        "colab": {
          "base_uri": "https://localhost:8080/"
        },
        "id": "Q9R7t4vk82FS",
        "outputId": "d0e11d84-5aaa-4b0e-df04-6da8a3dd0c68"
      },
      "execution_count": 8,
      "outputs": [
        {
          "output_type": "execute_result",
          "data": {
            "text/plain": [
              "6"
            ]
          },
          "metadata": {},
          "execution_count": 8
        }
      ]
    },
    {
      "cell_type": "code",
      "source": [
        "list_a[-4]"
      ],
      "metadata": {
        "colab": {
          "base_uri": "https://localhost:8080/"
        },
        "id": "Dtni4JDR895D",
        "outputId": "0848bf24-8159-41a4-ac87-138c9c4e7659"
      },
      "execution_count": 9,
      "outputs": [
        {
          "output_type": "execute_result",
          "data": {
            "text/plain": [
              "3"
            ]
          },
          "metadata": {},
          "execution_count": 9
        }
      ]
    },
    {
      "cell_type": "markdown",
      "source": [
        "## การสร้าง ```list()```"
      ],
      "metadata": {
        "id": "_0OQpOtF-s7F"
      }
    },
    {
      "cell_type": "code",
      "source": [
        "list_x1 = []  ## แบบที่ 1\n",
        "list_x2 = list()  ## แบบที่ 2"
      ],
      "metadata": {
        "id": "kzLDwq61-SnV"
      },
      "execution_count": 10,
      "outputs": []
    },
    {
      "cell_type": "code",
      "source": [
        "print(list_x1)\n",
        "print(list_x2)"
      ],
      "metadata": {
        "colab": {
          "base_uri": "https://localhost:8080/"
        },
        "id": "qmo7j-UK-0IK",
        "outputId": "cd8dcbb9-de1b-45f1-c0b2-55afdd956988"
      },
      "execution_count": 11,
      "outputs": [
        {
          "output_type": "stream",
          "name": "stdout",
          "text": [
            "[]\n",
            "[]\n"
          ]
        }
      ]
    },
    {
      "cell_type": "markdown",
      "source": [
        "### เพิ่มสมาชิกเข้าไปใน list ด้วย ```append()```"
      ],
      "metadata": {
        "id": "bdSw0Ecf_AdB"
      }
    },
    {
      "cell_type": "code",
      "source": [
        "list_x1.append(2)   # เพิ่ม 2 เข้าไปใน list_x1"
      ],
      "metadata": {
        "id": "OX1dTbgK-_kW"
      },
      "execution_count": 12,
      "outputs": []
    },
    {
      "cell_type": "code",
      "source": [
        "list_x1"
      ],
      "metadata": {
        "colab": {
          "base_uri": "https://localhost:8080/"
        },
        "id": "63uzYzdc_NLm",
        "outputId": "8b941254-14cf-4876-bde5-88db670cc3ef"
      },
      "execution_count": 13,
      "outputs": [
        {
          "output_type": "execute_result",
          "data": {
            "text/plain": [
              "[2]"
            ]
          },
          "metadata": {},
          "execution_count": 13
        }
      ]
    },
    {
      "cell_type": "code",
      "source": [
        "list_x1.append(4)       # เพิ่ม 4 เข้าไปใน list_x1\n",
        "print(list_x1)          # run กี่รอบก็จะเพิ่มเข้าไปเท่านั้น"
      ],
      "metadata": {
        "colab": {
          "base_uri": "https://localhost:8080/"
        },
        "id": "i7p4mpF3_O_O",
        "outputId": "ad012027-e181-47ec-8223-de8625a0a54a"
      },
      "execution_count": 14,
      "outputs": [
        {
          "output_type": "stream",
          "name": "stdout",
          "text": [
            "[2, 4]\n"
          ]
        }
      ]
    },
    {
      "cell_type": "code",
      "source": [
        "list_x1[0]"
      ],
      "metadata": {
        "colab": {
          "base_uri": "https://localhost:8080/"
        },
        "id": "RBpfw0Ro_W_c",
        "outputId": "7ee0cc43-3064-4e52-d873-d18b58acbc35"
      },
      "execution_count": 15,
      "outputs": [
        {
          "output_type": "execute_result",
          "data": {
            "text/plain": [
              "2"
            ]
          },
          "metadata": {},
          "execution_count": 15
        }
      ]
    },
    {
      "cell_type": "code",
      "source": [
        "list_x1[-1]"
      ],
      "metadata": {
        "colab": {
          "base_uri": "https://localhost:8080/"
        },
        "id": "RCEK_NBm_ZM8",
        "outputId": "01ddba2b-c363-4b07-c8fa-2841c1bb5fcd"
      },
      "execution_count": 16,
      "outputs": [
        {
          "output_type": "execute_result",
          "data": {
            "text/plain": [
              "4"
            ]
          },
          "metadata": {},
          "execution_count": 16
        }
      ]
    },
    {
      "cell_type": "code",
      "source": [
        "list_x2"
      ],
      "metadata": {
        "colab": {
          "base_uri": "https://localhost:8080/"
        },
        "id": "pOVv-lva_biQ",
        "outputId": "c20f4a17-7828-42a3-d008-567847492af8"
      },
      "execution_count": 17,
      "outputs": [
        {
          "output_type": "execute_result",
          "data": {
            "text/plain": [
              "[]"
            ]
          },
          "metadata": {},
          "execution_count": 17
        }
      ]
    },
    {
      "cell_type": "code",
      "source": [
        "list_x2.append('ha')"
      ],
      "metadata": {
        "id": "Qp7iAaSX_dGg"
      },
      "execution_count": 18,
      "outputs": []
    },
    {
      "cell_type": "code",
      "source": [
        "list_x2   # run -> list_x2.append('ha') สองรอบ จะได้ ['ha', 'ha']"
      ],
      "metadata": {
        "colab": {
          "base_uri": "https://localhost:8080/"
        },
        "id": "UgFeuIDNBBpz",
        "outputId": "55255f86-0962-4c5b-f719-9a054638e50a"
      },
      "execution_count": 19,
      "outputs": [
        {
          "output_type": "execute_result",
          "data": {
            "text/plain": [
              "['ha']"
            ]
          },
          "metadata": {},
          "execution_count": 19
        }
      ]
    },
    {
      "cell_type": "markdown",
      "source": [
        "### ลบสมาชิกจาก list"
      ],
      "metadata": {
        "id": "Q-X3JxpOAWY0"
      }
    },
    {
      "cell_type": "code",
      "source": [
        "list_x1.append('ha')"
      ],
      "metadata": {
        "id": "TBzZMVW4Au_I"
      },
      "execution_count": 20,
      "outputs": []
    },
    {
      "cell_type": "code",
      "source": [
        "list_x1"
      ],
      "metadata": {
        "colab": {
          "base_uri": "https://localhost:8080/"
        },
        "id": "OAvjJJ3wAu7E",
        "outputId": "5a249e83-653a-4bdb-c7e7-d9c66bb2279c"
      },
      "execution_count": 21,
      "outputs": [
        {
          "output_type": "execute_result",
          "data": {
            "text/plain": [
              "[2, 4, 'ha']"
            ]
          },
          "metadata": {},
          "execution_count": 21
        }
      ]
    },
    {
      "cell_type": "code",
      "source": [
        "list_x1.pop()        # ดึงตัวหลังสุดออกมา "
      ],
      "metadata": {
        "colab": {
          "base_uri": "https://localhost:8080/",
          "height": 0
        },
        "id": "mGGFVlW9_qQL",
        "outputId": "6f4c70d1-7460-452e-b4bd-f3f44a56f91a"
      },
      "execution_count": 22,
      "outputs": [
        {
          "output_type": "execute_result",
          "data": {
            "application/vnd.google.colaboratory.intrinsic+json": {
              "type": "string"
            },
            "text/plain": [
              "'ha'"
            ]
          },
          "metadata": {},
          "execution_count": 22
        }
      ]
    },
    {
      "cell_type": "code",
      "source": [
        "list_x1"
      ],
      "metadata": {
        "colab": {
          "base_uri": "https://localhost:8080/"
        },
        "id": "1XTrAWbbAu5E",
        "outputId": "ed16ae5b-7e37-4c6b-e99b-c99e103847bb"
      },
      "execution_count": 23,
      "outputs": [
        {
          "output_type": "execute_result",
          "data": {
            "text/plain": [
              "[2, 4]"
            ]
          },
          "metadata": {},
          "execution_count": 23
        }
      ]
    },
    {
      "cell_type": "markdown",
      "source": [
        "### `len()` ตรวจสอบสมาชิกของ list"
      ],
      "metadata": {
        "id": "lobYXFI8B8fq"
      }
    },
    {
      "cell_type": "code",
      "source": [
        "print(list_b)\n",
        "print(len(list_b))"
      ],
      "metadata": {
        "colab": {
          "base_uri": "https://localhost:8080/"
        },
        "id": "x_V0qdwOA3Z9",
        "outputId": "7ea776c8-46b5-4b4a-fd56-226ba12c2f1a"
      },
      "execution_count": 24,
      "outputs": [
        {
          "output_type": "stream",
          "name": "stdout",
          "text": [
            "['ab', 2, 3.14, [1, 2, 3, 4, 5, 6]]\n",
            "4\n"
          ]
        }
      ]
    },
    {
      "cell_type": "code",
      "source": [
        "len(list_a)     # len จะนับจำนวนที่แท้จริง (เริ่มจาก 1 ไม่ใช่ 0)"
      ],
      "metadata": {
        "colab": {
          "base_uri": "https://localhost:8080/"
        },
        "id": "t5GhtUc2CUUK",
        "outputId": "89c025b0-353d-4e1a-b134-06fa4a7dd751"
      },
      "execution_count": 25,
      "outputs": [
        {
          "output_type": "execute_result",
          "data": {
            "text/plain": [
              "6"
            ]
          },
          "metadata": {},
          "execution_count": 25
        }
      ]
    },
    {
      "cell_type": "markdown",
      "source": [
        "### String is list of characters"
      ],
      "metadata": {
        "id": "CIn2bLGbCwiD"
      }
    },
    {
      "cell_type": "code",
      "source": [
        "st_stat = 'Department of Statistics, Faculty of Science'"
      ],
      "metadata": {
        "id": "QXg6cLlHCYUl"
      },
      "execution_count": 26,
      "outputs": []
    },
    {
      "cell_type": "code",
      "source": [
        "st_stat[10]"
      ],
      "metadata": {
        "colab": {
          "base_uri": "https://localhost:8080/",
          "height": 0
        },
        "id": "S5sYuXReDITd",
        "outputId": "e3157e85-a45e-40f2-af50-ca4ed86706db"
      },
      "execution_count": 27,
      "outputs": [
        {
          "output_type": "execute_result",
          "data": {
            "application/vnd.google.colaboratory.intrinsic+json": {
              "type": "string"
            },
            "text/plain": [
              "' '"
            ]
          },
          "metadata": {},
          "execution_count": 27
        }
      ]
    },
    {
      "cell_type": "code",
      "source": [
        "len(st_stat)"
      ],
      "metadata": {
        "colab": {
          "base_uri": "https://localhost:8080/"
        },
        "id": "ARv1BfRFDJvq",
        "outputId": "15e7b35e-b654-4ce6-ef1e-09e972c57484"
      },
      "execution_count": 28,
      "outputs": [
        {
          "output_type": "execute_result",
          "data": {
            "text/plain": [
              "44"
            ]
          },
          "metadata": {},
          "execution_count": 28
        }
      ]
    },
    {
      "cell_type": "markdown",
      "source": [
        "### List Slicing `:`\n",
        "`list[จุดเริ่มต้น:จุดสุดท้าย)`\n",
        "\n",
        "`list[จุดเริ่มต้น:จุดสุดท้าย:step)`\n",
        "\n",
        "** step คือ กระโดดกี่ตัว"
      ],
      "metadata": {
        "id": "FHMRMykMDZFf"
      }
    },
    {
      "cell_type": "code",
      "source": [
        "list_a"
      ],
      "metadata": {
        "colab": {
          "base_uri": "https://localhost:8080/"
        },
        "id": "-HVCl0UwDRFa",
        "outputId": "846205e3-9c6e-43bd-d076-e721ee4f7b85"
      },
      "execution_count": 29,
      "outputs": [
        {
          "output_type": "execute_result",
          "data": {
            "text/plain": [
              "[1, 2, 3, 4, 5, 6]"
            ]
          },
          "metadata": {},
          "execution_count": 29
        }
      ]
    },
    {
      "cell_type": "code",
      "source": [
        "list_a[2]       # ทำแบบนี้จะดึงมาได้แค่ตัวเดียว"
      ],
      "metadata": {
        "colab": {
          "base_uri": "https://localhost:8080/"
        },
        "id": "3eqARVbuD3WQ",
        "outputId": "dda323ca-7b02-4552-f528-ea0246c6db11"
      },
      "execution_count": 30,
      "outputs": [
        {
          "output_type": "execute_result",
          "data": {
            "text/plain": [
              "3"
            ]
          },
          "metadata": {},
          "execution_count": 30
        }
      ]
    },
    {
      "cell_type": "markdown",
      "source": [
        "#### `:` colon"
      ],
      "metadata": {
        "id": "v8BzMfYz_WZf"
      }
    },
    {
      "cell_type": "code",
      "source": [
        "list_a[-3:]     # ตัดมาแค่ 3 ตัวสุดท้าย"
      ],
      "metadata": {
        "colab": {
          "base_uri": "https://localhost:8080/"
        },
        "id": "rLz3RLSREGro",
        "outputId": "dade8002-b726-42e9-8182-f1ad9232518d"
      },
      "execution_count": 31,
      "outputs": [
        {
          "output_type": "execute_result",
          "data": {
            "text/plain": [
              "[4, 5, 6]"
            ]
          },
          "metadata": {},
          "execution_count": 31
        }
      ]
    },
    {
      "cell_type": "code",
      "source": [
        "list_a[1:4]     # ตัด 2,3,4 มา   # เริ่มนับจาก 0,1,2,..."
      ],
      "metadata": {
        "colab": {
          "base_uri": "https://localhost:8080/"
        },
        "id": "qfOSOmo2EQx8",
        "outputId": "325f2e0e-6388-4fcb-f6b0-ee332fdd03c2"
      },
      "execution_count": 32,
      "outputs": [
        {
          "output_type": "execute_result",
          "data": {
            "text/plain": [
              "[2, 3, 4]"
            ]
          },
          "metadata": {},
          "execution_count": 32
        }
      ]
    },
    {
      "cell_type": "code",
      "source": [
        "list_a[:]       # เอาทุกตัว"
      ],
      "metadata": {
        "colab": {
          "base_uri": "https://localhost:8080/"
        },
        "id": "F8Nt_qjYGO13",
        "outputId": "6be0f183-1213-421b-bb4b-9ca3ea2b7182"
      },
      "execution_count": 33,
      "outputs": [
        {
          "output_type": "execute_result",
          "data": {
            "text/plain": [
              "[1, 2, 3, 4, 5, 6]"
            ]
          },
          "metadata": {},
          "execution_count": 33
        }
      ]
    },
    {
      "cell_type": "markdown",
      "source": [
        "#### step"
      ],
      "metadata": {
        "id": "fGP6td5hG6a1"
      }
    },
    {
      "cell_type": "code",
      "source": [
        "list_c = [1,2,3,4,5,6,7,8,9,10,11,12,13]"
      ],
      "metadata": {
        "id": "c6c_tEDMG2Ed"
      },
      "execution_count": 34,
      "outputs": []
    },
    {
      "cell_type": "code",
      "source": [
        "list_c[:10:]"
      ],
      "metadata": {
        "colab": {
          "base_uri": "https://localhost:8080/"
        },
        "id": "NfPBay9oHFoW",
        "outputId": "98a4eca7-d7d5-46fb-9412-0cd0d645128c"
      },
      "execution_count": 35,
      "outputs": [
        {
          "output_type": "execute_result",
          "data": {
            "text/plain": [
              "[1, 2, 3, 4, 5, 6, 7, 8, 9, 10]"
            ]
          },
          "metadata": {},
          "execution_count": 35
        }
      ]
    },
    {
      "cell_type": "code",
      "source": [
        "list_c[:10:2]"
      ],
      "metadata": {
        "colab": {
          "base_uri": "https://localhost:8080/"
        },
        "id": "PA57wR0jHOZs",
        "outputId": "bf50afe8-fc46-4728-c44e-80a3beebe21d"
      },
      "execution_count": 36,
      "outputs": [
        {
          "output_type": "execute_result",
          "data": {
            "text/plain": [
              "[1, 3, 5, 7, 9]"
            ]
          },
          "metadata": {},
          "execution_count": 36
        }
      ]
    },
    {
      "cell_type": "code",
      "source": [
        "list_c[::-1]        # ดึงจากท้ายมาหน้า (สลับ)"
      ],
      "metadata": {
        "colab": {
          "base_uri": "https://localhost:8080/"
        },
        "id": "5hoCrAfaHXKe",
        "outputId": "d3b0b1f6-224e-48af-aa44-dbf1dcebdb33"
      },
      "execution_count": 37,
      "outputs": [
        {
          "output_type": "execute_result",
          "data": {
            "text/plain": [
              "[13, 12, 11, 10, 9, 8, 7, 6, 5, 4, 3, 2, 1]"
            ]
          },
          "metadata": {},
          "execution_count": 37
        }
      ]
    },
    {
      "cell_type": "markdown",
      "source": [
        "### `range()`"
      ],
      "metadata": {
        "id": "4oCgJ1sgIBmG"
      }
    },
    {
      "cell_type": "code",
      "source": [
        "range(21)       # range ความยาว 21 ตัว ค่า 0-20"
      ],
      "metadata": {
        "colab": {
          "base_uri": "https://localhost:8080/"
        },
        "id": "9thbswGCIT1L",
        "outputId": "d3461f9e-30b9-4a0b-ab51-09e837e637de"
      },
      "execution_count": 38,
      "outputs": [
        {
          "output_type": "execute_result",
          "data": {
            "text/plain": [
              "range(0, 21)"
            ]
          },
          "metadata": {},
          "execution_count": 38
        }
      ]
    },
    {
      "cell_type": "code",
      "source": [
        "a = list(range(21))"
      ],
      "metadata": {
        "id": "hzxErdacHgpo"
      },
      "execution_count": 39,
      "outputs": []
    },
    {
      "cell_type": "code",
      "source": [
        "a"
      ],
      "metadata": {
        "colab": {
          "base_uri": "https://localhost:8080/"
        },
        "id": "ZndQHYQcIPRt",
        "outputId": "9c3ea0c3-e79a-401e-8738-568d1d16837d"
      },
      "execution_count": 40,
      "outputs": [
        {
          "output_type": "execute_result",
          "data": {
            "text/plain": [
              "[0, 1, 2, 3, 4, 5, 6, 7, 8, 9, 10, 11, 12, 13, 14, 15, 16, 17, 18, 19, 20]"
            ]
          },
          "metadata": {},
          "execution_count": 40
        }
      ]
    },
    {
      "cell_type": "code",
      "source": [
        "list(range(1,21))       # input 2 ตัว"
      ],
      "metadata": {
        "colab": {
          "base_uri": "https://localhost:8080/"
        },
        "id": "DX2d3cssIQUe",
        "outputId": "7021a4de-d017-47b4-95df-01433bcd32e8"
      },
      "execution_count": 41,
      "outputs": [
        {
          "output_type": "execute_result",
          "data": {
            "text/plain": [
              "[1, 2, 3, 4, 5, 6, 7, 8, 9, 10, 11, 12, 13, 14, 15, 16, 17, 18, 19, 20]"
            ]
          },
          "metadata": {},
          "execution_count": 41
        }
      ]
    },
    {
      "cell_type": "markdown",
      "source": [
        "## HW2 คำนวนเวลาเป็นวินาทีขอเวลาต่อไปนี้โดยใช้คำสั่ง split() ช่วย (print ออกมาให้สวยงาม)\n",
        "- 12:30:15\n",
        "- 13:41:07\n",
        "- 09:11:50\n",
        "- 21:30:15\n",
        "- 03:10:15"
      ],
      "metadata": {
        "id": "4mrw7FhwJC5E"
      }
    },
    {
      "cell_type": "code",
      "source": [
        "#Ex 01:02:03\n",
        "\n",
        "Ex = (1*60*60) + (2*60) + 3\n",
        "print(f'01:02:03 แปลงเป็นวินาที ได้ {Ex} วินาที')"
      ],
      "metadata": {
        "colab": {
          "base_uri": "https://localhost:8080/"
        },
        "id": "TrcYOxpnIvyo",
        "outputId": "42a52dbd-b54b-4a73-958f-b2d5c3b06172"
      },
      "execution_count": 42,
      "outputs": [
        {
          "output_type": "stream",
          "name": "stdout",
          "text": [
            "01:02:03 แปลงเป็นวินาที ได้ 3723 วินาที\n"
          ]
        }
      ]
    },
    {
      "cell_type": "code",
      "source": [
        "#1 12:30:15\n",
        "\n",
        "T1 = '12:30:15'\n",
        "T1_sp = T1.split(':')\n",
        "T1_sp = int(T1_sp[0])*60*60 + int(T1_sp[1])*60 + int(T1_sp[2])\n",
        "print(f'{T1} แปลงเป็นวินาที ได้ {T1_sp} วินาที')"
      ],
      "metadata": {
        "id": "NWEB_TznKyzh",
        "outputId": "8d5a12f4-b42a-4fcc-cf80-652772ee8598",
        "colab": {
          "base_uri": "https://localhost:8080/"
        }
      },
      "execution_count": 43,
      "outputs": [
        {
          "output_type": "stream",
          "name": "stdout",
          "text": [
            "12:30:15 แปลงเป็นวินาที ได้ 45015 วินาที\n"
          ]
        }
      ]
    },
    {
      "cell_type": "code",
      "source": [
        "#2 13:41:07\n",
        "\n",
        "T2 = '13:41:07'\n",
        "T2_sp = T2.split(':')\n",
        "T2_sp = int(T2_sp[0])*60*60 + int(T2_sp[1])*60 + int(T2_sp[2])\n",
        "print(f'{T2} แปลงเป็นวินาที ได้ {T2_sp} วินาที')"
      ],
      "metadata": {
        "id": "kAvZgvHmFr2H",
        "outputId": "b4f6373f-888d-4af8-dc96-8d6d3e56c686",
        "colab": {
          "base_uri": "https://localhost:8080/"
        }
      },
      "execution_count": 44,
      "outputs": [
        {
          "output_type": "stream",
          "name": "stdout",
          "text": [
            "13:41:07 แปลงเป็นวินาที ได้ 49267 วินาที\n"
          ]
        }
      ]
    },
    {
      "cell_type": "code",
      "source": [
        "#T3 09:11:50\n",
        "\n",
        "T3 = '09:11:50'\n",
        "T3_sp = T3.split(':')\n",
        "T3_sp = int(T3_sp[0])*60*60 + int(T3_sp[1])*60 + int(T3_sp[2])\n",
        "print(f'{T3} แปลงเป็นวินาที ได้ {T3_sp} วินาที')"
      ],
      "metadata": {
        "id": "tTBzO3A7F5bG",
        "outputId": "f4c21c6b-8648-420e-c187-fa0696dfbc35",
        "colab": {
          "base_uri": "https://localhost:8080/"
        }
      },
      "execution_count": 45,
      "outputs": [
        {
          "output_type": "stream",
          "name": "stdout",
          "text": [
            "09:11:50 แปลงเป็นวินาที ได้ 33110 วินาที\n"
          ]
        }
      ]
    },
    {
      "cell_type": "code",
      "source": [
        "#T4 21:30:15\n",
        "\n",
        "T4 = '21:30:15'\n",
        "T4_sp = T4.split(':')\n",
        "T4_sp = int(T4_sp[0])*60*60 + int(T4_sp[1])*60 + int(T4_sp[2])\n",
        "print(f'{T4} แปลงเป็นวินาที ได้ {T4_sp} วินาที')"
      ],
      "metadata": {
        "id": "Qa9MrvI-F-Zu",
        "outputId": "1c8bb172-9a88-4231-e095-36ae4b43de03",
        "colab": {
          "base_uri": "https://localhost:8080/"
        }
      },
      "execution_count": 46,
      "outputs": [
        {
          "output_type": "stream",
          "name": "stdout",
          "text": [
            "21:30:15 แปลงเป็นวินาที ได้ 77415 วินาที\n"
          ]
        }
      ]
    },
    {
      "cell_type": "code",
      "source": [
        "#T5 03:10:15\n",
        "\n",
        "T5 = '03:10:15'\n",
        "T5_sp = T5.split(':')\n",
        "T5_sp = int(T5_sp[0])*60*60 + int(T5_sp[1])*60 + int(T5_sp[2])\n",
        "print(f'{T5} แปลงเป็นวินาที ได้ {T5_sp} วินาที')"
      ],
      "metadata": {
        "id": "HgtAUuD7GArF",
        "outputId": "4b15f90c-0140-4df7-aeed-5b77d7584f70",
        "colab": {
          "base_uri": "https://localhost:8080/"
        }
      },
      "execution_count": 47,
      "outputs": [
        {
          "output_type": "stream",
          "name": "stdout",
          "text": [
            "03:10:15 แปลงเป็นวินาที ได้ 11415 วินาที\n"
          ]
        }
      ]
    },
    {
      "cell_type": "markdown",
      "source": [
        "### Dictionary"
      ],
      "metadata": {
        "id": "1kXGJIU1OwS2"
      }
    },
    {
      "cell_type": "markdown",
      "source": [
        "- คล้าย list()\n",
        "- index เป็นออะไรก็ได้ ไม่จำเป็นต้องเป็นตัวเลขลำดับ\n",
        "- ลำดับไม่มีความสำคัญ"
      ],
      "metadata": {
        "id": "0NQjRYGiPVtq"
      }
    },
    {
      "cell_type": "markdown",
      "source": [
        "#### การชี้สมาชิกใน Dictionary"
      ],
      "metadata": {
        "id": "ndMAD_IFRC3t"
      }
    },
    {
      "cell_type": "code",
      "source": [
        "dict_a = {1:'Happy','N':'New','2022':'Year'}  # { } curly brackets"
      ],
      "metadata": {
        "id": "h-QgKrOoPQnY"
      },
      "execution_count": 48,
      "outputs": []
    },
    {
      "cell_type": "code",
      "source": [
        "dict_a[1]   # กำหนดตัวอะไรเป็น index ก็ได้"
      ],
      "metadata": {
        "id": "LgguELC1PQjg",
        "outputId": "1c43c0cb-66bc-4097-c062-7509ceca0f95",
        "colab": {
          "base_uri": "https://localhost:8080/",
          "height": 0
        }
      },
      "execution_count": 49,
      "outputs": [
        {
          "output_type": "execute_result",
          "data": {
            "application/vnd.google.colaboratory.intrinsic+json": {
              "type": "string"
            },
            "text/plain": [
              "'Happy'"
            ]
          },
          "metadata": {},
          "execution_count": 49
        }
      ]
    },
    {
      "cell_type": "code",
      "source": [
        "dict_a['N']"
      ],
      "metadata": {
        "id": "O4cPNgyTPQhV",
        "outputId": "78a74bc8-3d02-40d7-dabe-c31415919994",
        "colab": {
          "base_uri": "https://localhost:8080/",
          "height": 0
        }
      },
      "execution_count": 50,
      "outputs": [
        {
          "output_type": "execute_result",
          "data": {
            "application/vnd.google.colaboratory.intrinsic+json": {
              "type": "string"
            },
            "text/plain": [
              "'New'"
            ]
          },
          "metadata": {},
          "execution_count": 50
        }
      ]
    },
    {
      "cell_type": "code",
      "source": [
        "dict_a.keys()  # เช็คดูว่ามี key อะไรบ้าง"
      ],
      "metadata": {
        "id": "pN0yuQRyPQeM",
        "outputId": "a041cbed-0dd6-425e-da77-998fdba8dc3a",
        "colab": {
          "base_uri": "https://localhost:8080/"
        }
      },
      "execution_count": 51,
      "outputs": [
        {
          "output_type": "execute_result",
          "data": {
            "text/plain": [
              "dict_keys([1, 'N', '2022'])"
            ]
          },
          "metadata": {},
          "execution_count": 51
        }
      ]
    },
    {
      "cell_type": "code",
      "source": [
        "dict_a.values()"
      ],
      "metadata": {
        "id": "Vc-1HQb6PQch",
        "outputId": "1ea95d32-60cf-4366-f036-5afe16083d6f",
        "colab": {
          "base_uri": "https://localhost:8080/"
        }
      },
      "execution_count": 52,
      "outputs": [
        {
          "output_type": "execute_result",
          "data": {
            "text/plain": [
              "dict_values(['Happy', 'New', 'Year'])"
            ]
          },
          "metadata": {},
          "execution_count": 52
        }
      ]
    },
    {
      "cell_type": "markdown",
      "source": [
        "#### การเพิ่มสมาชิกลงไปใน Dictionary "
      ],
      "metadata": {
        "id": "oL8PMan6RPeM"
      }
    },
    {
      "cell_type": "code",
      "source": [
        "dict_a[7] = 3.14  # กำหนดตัวแปลและค่าลงไปเลย"
      ],
      "metadata": {
        "id": "bW2eU8RgPQZZ"
      },
      "execution_count": 53,
      "outputs": []
    },
    {
      "cell_type": "code",
      "source": [
        "dict_a"
      ],
      "metadata": {
        "id": "m5WR7-q4PQWo",
        "outputId": "71e4ba52-0f63-49a3-a105-3917d1d057cc",
        "colab": {
          "base_uri": "https://localhost:8080/"
        }
      },
      "execution_count": 54,
      "outputs": [
        {
          "output_type": "execute_result",
          "data": {
            "text/plain": [
              "{1: 'Happy', '2022': 'Year', 7: 3.14, 'N': 'New'}"
            ]
          },
          "metadata": {},
          "execution_count": 54
        }
      ]
    },
    {
      "cell_type": "code",
      "source": [
        "dict_a['N'] = 'NNNNEEEEWWWWW'   # ถ้าใช้ index ซ้ำ มันจะอัพเดตค่าให้เราใหม่"
      ],
      "metadata": {
        "id": "0aVNRgkBPQTD"
      },
      "execution_count": 55,
      "outputs": []
    },
    {
      "cell_type": "code",
      "source": [
        "dict_a"
      ],
      "metadata": {
        "id": "W7NbvrNBPQRb",
        "outputId": "99fb4aac-d376-47b5-e57a-9e137b8b4c16",
        "colab": {
          "base_uri": "https://localhost:8080/"
        }
      },
      "execution_count": 56,
      "outputs": [
        {
          "output_type": "execute_result",
          "data": {
            "text/plain": [
              "{1: 'Happy', '2022': 'Year', 7: 3.14, 'N': 'NNNNEEEEWWWWW'}"
            ]
          },
          "metadata": {},
          "execution_count": 56
        }
      ]
    },
    {
      "cell_type": "markdown",
      "source": [
        "### Numpy Array"
      ],
      "metadata": {
        "id": "g-ItO4_bO787"
      }
    },
    {
      "cell_type": "markdown",
      "source": [
        "- เก็บได้แต่ตัวเลข\n",
        "- อ้างอิงโดยใช้พิกัด (2มิติ ก็มองเป็น metrix)"
      ],
      "metadata": {
        "id": "s-2tUEZjUgKG"
      }
    },
    {
      "cell_type": "markdown",
      "source": [
        "##### 1D Array"
      ],
      "metadata": {
        "id": "zShWKWRqYeyE"
      }
    },
    {
      "cell_type": "code",
      "source": [
        "import numpy"
      ],
      "metadata": {
        "id": "ITG9q6KCUf7n"
      },
      "execution_count": 57,
      "outputs": []
    },
    {
      "cell_type": "code",
      "source": [
        "list_b = [1,2,3,4,5]"
      ],
      "metadata": {
        "id": "ws7FIYfqV85U"
      },
      "execution_count": 58,
      "outputs": []
    },
    {
      "cell_type": "code",
      "source": [
        "ar_a = numpy.array(list_b)"
      ],
      "metadata": {
        "id": "7IgtfPgVUf3D"
      },
      "execution_count": 59,
      "outputs": []
    },
    {
      "cell_type": "code",
      "source": [
        "ar_a"
      ],
      "metadata": {
        "id": "kpyqGydKUf1R",
        "outputId": "b347608b-c605-4cb6-b314-d4e4e1f4f8b6",
        "colab": {
          "base_uri": "https://localhost:8080/"
        }
      },
      "execution_count": 60,
      "outputs": [
        {
          "output_type": "execute_result",
          "data": {
            "text/plain": [
              "array([1, 2, 3, 4, 5])"
            ]
          },
          "metadata": {},
          "execution_count": 60
        }
      ]
    },
    {
      "cell_type": "code",
      "source": [
        "list_b"
      ],
      "metadata": {
        "id": "fopCTnAWUfyv",
        "outputId": "d686dca8-ad19-46c6-c814-e15b0508cf03",
        "colab": {
          "base_uri": "https://localhost:8080/"
        }
      },
      "execution_count": 61,
      "outputs": [
        {
          "output_type": "execute_result",
          "data": {
            "text/plain": [
              "[1, 2, 3, 4, 5]"
            ]
          },
          "metadata": {},
          "execution_count": 61
        }
      ]
    },
    {
      "cell_type": "code",
      "source": [
        "ar_a[0]"
      ],
      "metadata": {
        "id": "br_yt9LfUfv4",
        "outputId": "4d88a0e9-da6a-44aa-beaf-979c3589f42a",
        "colab": {
          "base_uri": "https://localhost:8080/"
        }
      },
      "execution_count": 62,
      "outputs": [
        {
          "output_type": "execute_result",
          "data": {
            "text/plain": [
              "1"
            ]
          },
          "metadata": {},
          "execution_count": 62
        }
      ]
    },
    {
      "cell_type": "code",
      "source": [
        "list_b[0]"
      ],
      "metadata": {
        "id": "Ye4JJQNcUfst",
        "outputId": "2d5efc96-246e-4725-a13c-6cb00e1fe888",
        "colab": {
          "base_uri": "https://localhost:8080/"
        }
      },
      "execution_count": 63,
      "outputs": [
        {
          "output_type": "execute_result",
          "data": {
            "text/plain": [
              "1"
            ]
          },
          "metadata": {},
          "execution_count": 63
        }
      ]
    },
    {
      "cell_type": "code",
      "source": [
        "5 * ar_a  # Matrix(scalar multiplication)  # จะคูณตัวเลขด้านในทุกตัว"
      ],
      "metadata": {
        "id": "IN-CQsymUfqr",
        "outputId": "ae3b6742-6aca-400d-de6e-8d5b278a87bb",
        "colab": {
          "base_uri": "https://localhost:8080/"
        }
      },
      "execution_count": 64,
      "outputs": [
        {
          "output_type": "execute_result",
          "data": {
            "text/plain": [
              "array([ 5, 10, 15, 20, 25])"
            ]
          },
          "metadata": {},
          "execution_count": 64
        }
      ]
    },
    {
      "cell_type": "code",
      "source": [
        "5 * list_b   # จะแสดงตัวเลขชุดเดิม 5 ชุด"
      ],
      "metadata": {
        "id": "Je8Q0fqQUfn5",
        "outputId": "a3396d0c-ba23-4f47-9331-329787b44d7d",
        "colab": {
          "base_uri": "https://localhost:8080/"
        }
      },
      "execution_count": 65,
      "outputs": [
        {
          "output_type": "execute_result",
          "data": {
            "text/plain": [
              "[1, 2, 3, 4, 5, 1, 2, 3, 4, 5, 1, 2, 3, 4, 5, 1, 2, 3, 4, 5, 1, 2, 3, 4, 5]"
            ]
          },
          "metadata": {},
          "execution_count": 65
        }
      ]
    },
    {
      "cell_type": "code",
      "source": [
        "ar_b = numpy.array([10,20,30,40,50])"
      ],
      "metadata": {
        "id": "cd1SZ486Ufle"
      },
      "execution_count": 66,
      "outputs": []
    },
    {
      "cell_type": "code",
      "source": [
        "print(ar_a)"
      ],
      "metadata": {
        "id": "MwXkPItXUfjL",
        "outputId": "3d1a16fe-d55f-4cf6-9227-c7ca91dcffb1",
        "colab": {
          "base_uri": "https://localhost:8080/"
        }
      },
      "execution_count": 67,
      "outputs": [
        {
          "output_type": "stream",
          "name": "stdout",
          "text": [
            "[1 2 3 4 5]\n"
          ]
        }
      ]
    },
    {
      "cell_type": "code",
      "source": [
        "ar_a + ar_b"
      ],
      "metadata": {
        "id": "BK7h_ettUfgF",
        "outputId": "a259880d-5be3-422f-b75d-9abef5d965a0",
        "colab": {
          "base_uri": "https://localhost:8080/"
        }
      },
      "execution_count": 68,
      "outputs": [
        {
          "output_type": "execute_result",
          "data": {
            "text/plain": [
              "array([11, 22, 33, 44, 55])"
            ]
          },
          "metadata": {},
          "execution_count": 68
        }
      ]
    },
    {
      "cell_type": "markdown",
      "source": [
        "##### 2D Array"
      ],
      "metadata": {
        "id": "PkhAdLsxYjId"
      }
    },
    {
      "cell_type": "code",
      "source": [
        "import numpy as np"
      ],
      "metadata": {
        "id": "eTSZm0TvUfdA"
      },
      "execution_count": 69,
      "outputs": []
    },
    {
      "cell_type": "code",
      "source": [
        "ar2_z = np.array([[1,2,3],[4,5,6]])"
      ],
      "metadata": {
        "id": "-rYuK1WIUfa4"
      },
      "execution_count": 70,
      "outputs": []
    },
    {
      "cell_type": "code",
      "source": [
        "ar2_z"
      ],
      "metadata": {
        "id": "JHMzWzx_ZEJb",
        "outputId": "7b1460c0-6485-4d33-b93b-490b7525b48a",
        "colab": {
          "base_uri": "https://localhost:8080/"
        }
      },
      "execution_count": 71,
      "outputs": [
        {
          "output_type": "execute_result",
          "data": {
            "text/plain": [
              "array([[1, 2, 3],\n",
              "       [4, 5, 6]])"
            ]
          },
          "metadata": {},
          "execution_count": 71
        }
      ]
    },
    {
      "cell_type": "code",
      "source": [
        "ar2_z.shape"
      ],
      "metadata": {
        "id": "-BL71empZFEy",
        "outputId": "6a855713-64f6-4c07-c84a-5385c573498f",
        "colab": {
          "base_uri": "https://localhost:8080/"
        }
      },
      "execution_count": 72,
      "outputs": [
        {
          "output_type": "execute_result",
          "data": {
            "text/plain": [
              "(2, 3)"
            ]
          },
          "metadata": {},
          "execution_count": 72
        }
      ]
    },
    {
      "cell_type": "markdown",
      "source": [
        "##### ```np.zeros()```"
      ],
      "metadata": {
        "id": "sHDLbcy0aL93"
      }
    },
    {
      "cell_type": "code",
      "source": [
        "arr2_3_5_0 = np.zeros((3,5))"
      ],
      "metadata": {
        "id": "6MeOveD0ZFBX"
      },
      "execution_count": 73,
      "outputs": []
    },
    {
      "cell_type": "code",
      "source": [
        "arr2_3_5_0"
      ],
      "metadata": {
        "id": "OWJwEpgAZE9E",
        "outputId": "db36f409-31ee-4a23-e2e3-bf80a5fc1972",
        "colab": {
          "base_uri": "https://localhost:8080/"
        }
      },
      "execution_count": 74,
      "outputs": [
        {
          "output_type": "execute_result",
          "data": {
            "text/plain": [
              "array([[0., 0., 0., 0., 0.],\n",
              "       [0., 0., 0., 0., 0.],\n",
              "       [0., 0., 0., 0., 0.]])"
            ]
          },
          "metadata": {},
          "execution_count": 74
        }
      ]
    },
    {
      "cell_type": "code",
      "source": [
        "arr2_3_5_0[1,2] = 9  # กำหนดค่าในแถวที่ 2 หลักที่ 3 เท่ากับ 9"
      ],
      "metadata": {
        "id": "jvUy5sm8ZE7O"
      },
      "execution_count": 75,
      "outputs": []
    },
    {
      "cell_type": "code",
      "source": [
        "arr2_3_5_0"
      ],
      "metadata": {
        "id": "pZeEXZREZE4D",
        "outputId": "eaa645f8-d12a-4350-f2e5-28bc01888761",
        "colab": {
          "base_uri": "https://localhost:8080/"
        }
      },
      "execution_count": 76,
      "outputs": [
        {
          "output_type": "execute_result",
          "data": {
            "text/plain": [
              "array([[0., 0., 0., 0., 0.],\n",
              "       [0., 0., 9., 0., 0.],\n",
              "       [0., 0., 0., 0., 0.]])"
            ]
          },
          "metadata": {},
          "execution_count": 76
        }
      ]
    },
    {
      "cell_type": "code",
      "source": [
        "arr2_3_5_0[1,2]   # ชี้ค่าที่ต้องการ [แถว,หลัก]"
      ],
      "metadata": {
        "id": "PiFbrJ7WZE2R",
        "outputId": "e7556535-3acd-4146-9502-7ed592886d74",
        "colab": {
          "base_uri": "https://localhost:8080/"
        }
      },
      "execution_count": 77,
      "outputs": [
        {
          "output_type": "execute_result",
          "data": {
            "text/plain": [
              "9.0"
            ]
          },
          "metadata": {},
          "execution_count": 77
        }
      ]
    },
    {
      "cell_type": "code",
      "source": [
        "print(list_b)  # เปลี่ยนค่าใน list\n",
        "list_b[-1] = 'Chrismas'\n",
        "print(list_b)"
      ],
      "metadata": {
        "id": "mv986pwZZEF-",
        "outputId": "94929427-1380-4b59-cce6-9f3bda7ae03b",
        "colab": {
          "base_uri": "https://localhost:8080/"
        }
      },
      "execution_count": 78,
      "outputs": [
        {
          "output_type": "stream",
          "name": "stdout",
          "text": [
            "[1, 2, 3, 4, 5]\n",
            "[1, 2, 3, 4, 'Chrismas']\n"
          ]
        }
      ]
    },
    {
      "cell_type": "markdown",
      "source": [
        "##### ```np.ones()```"
      ],
      "metadata": {
        "id": "KV6jOD6wcGXD"
      }
    },
    {
      "cell_type": "code",
      "source": [
        "arr2_4_5_1 = np.ones((4,5))"
      ],
      "metadata": {
        "id": "VfuF_SI_ZEC6"
      },
      "execution_count": 79,
      "outputs": []
    },
    {
      "cell_type": "code",
      "source": [
        "arr2_4_5_1"
      ],
      "metadata": {
        "id": "-fiB4L1KZEAb",
        "outputId": "ca21a7e5-3b0c-4c6a-e71a-6a00bce2c979",
        "colab": {
          "base_uri": "https://localhost:8080/"
        }
      },
      "execution_count": 80,
      "outputs": [
        {
          "output_type": "execute_result",
          "data": {
            "text/plain": [
              "array([[1., 1., 1., 1., 1.],\n",
              "       [1., 1., 1., 1., 1.],\n",
              "       [1., 1., 1., 1., 1.],\n",
              "       [1., 1., 1., 1., 1.]])"
            ]
          },
          "metadata": {},
          "execution_count": 80
        }
      ]
    },
    {
      "cell_type": "code",
      "source": [
        "arr2_4_5_200 = 200*np.ones((4,5))"
      ],
      "metadata": {
        "id": "F1Mp8vhhZD6-"
      },
      "execution_count": 81,
      "outputs": []
    },
    {
      "cell_type": "code",
      "source": [
        "arr2_4_5_200"
      ],
      "metadata": {
        "id": "N-89d2ZXZDx6",
        "outputId": "3725308b-6a77-41ea-e717-e59112354116",
        "colab": {
          "base_uri": "https://localhost:8080/"
        }
      },
      "execution_count": 82,
      "outputs": [
        {
          "output_type": "execute_result",
          "data": {
            "text/plain": [
              "array([[200., 200., 200., 200., 200.],\n",
              "       [200., 200., 200., 200., 200.],\n",
              "       [200., 200., 200., 200., 200.],\n",
              "       [200., 200., 200., 200., 200.]])"
            ]
          },
          "metadata": {},
          "execution_count": 82
        }
      ]
    },
    {
      "cell_type": "markdown",
      "source": [
        "#### Matrix operations"
      ],
      "metadata": {
        "id": "uYmH2RPtc-Y8"
      }
    },
    {
      "cell_type": "markdown",
      "source": [
        "การบวก ลบ matrix    $M \\pm N$  บวกลบตัวที่อยู่ตำแหน่งเดียวกัน"
      ],
      "metadata": {
        "id": "Zj9ur34SdI6U"
      }
    },
    {
      "cell_type": "code",
      "source": [
        "arr2_4_5_200 + arr2_4_5_1   # การบวก ลบ matrix shape ต้องเท่ากัน"
      ],
      "metadata": {
        "id": "_BP5_B2tc-AA",
        "outputId": "3ca97caa-e711-4ab9-ee26-068ee3c62613",
        "colab": {
          "base_uri": "https://localhost:8080/"
        }
      },
      "execution_count": 83,
      "outputs": [
        {
          "output_type": "execute_result",
          "data": {
            "text/plain": [
              "array([[201., 201., 201., 201., 201.],\n",
              "       [201., 201., 201., 201., 201.],\n",
              "       [201., 201., 201., 201., 201.],\n",
              "       [201., 201., 201., 201., 201.]])"
            ]
          },
          "metadata": {},
          "execution_count": 83
        }
      ]
    },
    {
      "cell_type": "markdown",
      "source": [
        "การคูณ matrix\n",
        "\n",
        "- $aM$  scalar คูณ matrix (scalar คูณกระจายเข้าไปทุกตัวของ Matrix)\n",
        "- $M\\times N$  matrix คูณ matria (แถวคูณหลัก)"
      ],
      "metadata": {
        "id": "lQ-BHzlvdnQb"
      }
    },
    {
      "cell_type": "markdown",
      "source": [
        "$aM$"
      ],
      "metadata": {
        "id": "CLSeyW7PezPD"
      }
    },
    {
      "cell_type": "code",
      "source": [
        "5 * ar_a  # Matrix(scalar multiplication)"
      ],
      "metadata": {
        "id": "dreEmsjBc995",
        "outputId": "48d9d524-ec7d-4808-ad65-e6ade69dcb9f",
        "colab": {
          "base_uri": "https://localhost:8080/"
        }
      },
      "execution_count": 84,
      "outputs": [
        {
          "output_type": "execute_result",
          "data": {
            "text/plain": [
              "array([ 5, 10, 15, 20, 25])"
            ]
          },
          "metadata": {},
          "execution_count": 84
        }
      ]
    },
    {
      "cell_type": "markdown",
      "source": [
        "$M × N$  (dot product)\n",
        "\n",
        "- (m,n) $×$ (n,o) = (m,o)   [Matrix Shape]"
      ],
      "metadata": {
        "id": "dgd9dhB_fJoH"
      }
    },
    {
      "cell_type": "code",
      "source": [
        "mat_a = np.array([[2,3,5],[4,6,7]])\n",
        "mat_b = np.array([[1,2,5],[2,4,-7]])\n",
        "mat_c = np.array([[2,3],[4,6],[7,9]])"
      ],
      "metadata": {
        "id": "IyKO6d5cesIT"
      },
      "execution_count": 85,
      "outputs": []
    },
    {
      "cell_type": "code",
      "source": [
        "mat_a"
      ],
      "metadata": {
        "id": "1cyCEZ6iesDH",
        "outputId": "80d7111f-8b64-4a44-b8cd-6ce53ad18328",
        "colab": {
          "base_uri": "https://localhost:8080/"
        }
      },
      "execution_count": 86,
      "outputs": [
        {
          "output_type": "execute_result",
          "data": {
            "text/plain": [
              "array([[2, 3, 5],\n",
              "       [4, 6, 7]])"
            ]
          },
          "metadata": {},
          "execution_count": 86
        }
      ]
    },
    {
      "cell_type": "code",
      "source": [
        "mat_b"
      ],
      "metadata": {
        "id": "rL3wDVW5esBY",
        "outputId": "3d11d7c4-56cb-4b3c-c227-979adad45d1d",
        "colab": {
          "base_uri": "https://localhost:8080/"
        }
      },
      "execution_count": 87,
      "outputs": [
        {
          "output_type": "execute_result",
          "data": {
            "text/plain": [
              "array([[ 1,  2,  5],\n",
              "       [ 2,  4, -7]])"
            ]
          },
          "metadata": {},
          "execution_count": 87
        }
      ]
    },
    {
      "cell_type": "code",
      "source": [
        "mat_c"
      ],
      "metadata": {
        "id": "igufZfOjZDwc",
        "outputId": "1175dc32-01c3-4ccd-e92d-02e3a05d2857",
        "colab": {
          "base_uri": "https://localhost:8080/"
        }
      },
      "execution_count": 88,
      "outputs": [
        {
          "output_type": "execute_result",
          "data": {
            "text/plain": [
              "array([[2, 3],\n",
              "       [4, 6],\n",
              "       [7, 9]])"
            ]
          },
          "metadata": {},
          "execution_count": 88
        }
      ]
    },
    {
      "cell_type": "markdown",
      "source": [
        "axc , bxc"
      ],
      "metadata": {
        "id": "1P1kbXzFhQZn"
      }
    },
    {
      "cell_type": "code",
      "source": [
        "np.dot(mat_a,mat_c)   # ใช้ .dot ในการคูณ matrix"
      ],
      "metadata": {
        "id": "v3X4hwwOgqvX",
        "outputId": "077206a6-f0a5-4c8e-f3f2-ff6d893550eb",
        "colab": {
          "base_uri": "https://localhost:8080/"
        }
      },
      "execution_count": 89,
      "outputs": [
        {
          "output_type": "execute_result",
          "data": {
            "text/plain": [
              "array([[ 51,  69],\n",
              "       [ 81, 111]])"
            ]
          },
          "metadata": {},
          "execution_count": 89
        }
      ]
    },
    {
      "cell_type": "code",
      "source": [
        "np.dot(mat_b,mat_c)"
      ],
      "metadata": {
        "id": "5eorbhfPhVEH",
        "outputId": "81aba256-70ce-46fe-9f69-47a36dce30bf",
        "colab": {
          "base_uri": "https://localhost:8080/"
        }
      },
      "execution_count": 90,
      "outputs": [
        {
          "output_type": "execute_result",
          "data": {
            "text/plain": [
              "array([[ 45,  60],\n",
              "       [-29, -33]])"
            ]
          },
          "metadata": {},
          "execution_count": 90
        }
      ]
    },
    {
      "cell_type": "markdown",
      "source": [
        "cxa , cxb"
      ],
      "metadata": {
        "id": "Ha4-DnZVhXq9"
      }
    },
    {
      "cell_type": "code",
      "source": [
        "np.dot(mat_c,mat_a)"
      ],
      "metadata": {
        "id": "rrbjwZr0hKR9",
        "outputId": "d5d1e9b7-58b3-4aac-c884-8b6662b2273a",
        "colab": {
          "base_uri": "https://localhost:8080/"
        }
      },
      "execution_count": 91,
      "outputs": [
        {
          "output_type": "execute_result",
          "data": {
            "text/plain": [
              "array([[16, 24, 31],\n",
              "       [32, 48, 62],\n",
              "       [50, 75, 98]])"
            ]
          },
          "metadata": {},
          "execution_count": 91
        }
      ]
    },
    {
      "cell_type": "code",
      "source": [
        "np.dot(mat_c,mat_b)"
      ],
      "metadata": {
        "id": "Ng_fqdNthKPJ",
        "outputId": "4bfea116-9ef8-48fa-d285-a586decace2c",
        "colab": {
          "base_uri": "https://localhost:8080/"
        }
      },
      "execution_count": 92,
      "outputs": [
        {
          "output_type": "execute_result",
          "data": {
            "text/plain": [
              "array([[  8,  16, -11],\n",
              "       [ 16,  32, -22],\n",
              "       [ 25,  50, -28]])"
            ]
          },
          "metadata": {},
          "execution_count": 92
        }
      ]
    },
    {
      "cell_type": "code",
      "source": [
        "mat_X = np.dot(mat_c,mat_b)\n",
        "print(mat_X)"
      ],
      "metadata": {
        "id": "H01Vj7POiVVY",
        "outputId": "97b05289-3075-4930-8dcb-b74d3e13691d",
        "colab": {
          "base_uri": "https://localhost:8080/"
        }
      },
      "execution_count": 93,
      "outputs": [
        {
          "output_type": "stream",
          "name": "stdout",
          "text": [
            "[[  8  16 -11]\n",
            " [ 16  32 -22]\n",
            " [ 25  50 -28]]\n"
          ]
        }
      ]
    },
    {
      "cell_type": "code",
      "source": [
        "mat_a * mat_b  # * ใช้ตัวคูณตำแหน่งเดียวกัน"
      ],
      "metadata": {
        "id": "SGZSm4cWhKMH",
        "outputId": "75ca4583-93f7-4252-e566-1cedc3ac6f2e",
        "colab": {
          "base_uri": "https://localhost:8080/"
        }
      },
      "execution_count": 94,
      "outputs": [
        {
          "output_type": "execute_result",
          "data": {
            "text/plain": [
              "array([[  2,   6,  25],\n",
              "       [  8,  24, -49]])"
            ]
          },
          "metadata": {},
          "execution_count": 94
        }
      ]
    },
    {
      "cell_type": "markdown",
      "source": [
        "#### Matrix Slicing"
      ],
      "metadata": {
        "id": "m8e9FGBPh7Md"
      }
    },
    {
      "cell_type": "code",
      "source": [
        "mat_X[:2,:2]"
      ],
      "metadata": {
        "id": "BxQLZAoRiAa3",
        "outputId": "0b83970c-83ed-48d2-c3d4-1e1dddde50b8",
        "colab": {
          "base_uri": "https://localhost:8080/"
        }
      },
      "execution_count": 95,
      "outputs": [
        {
          "output_type": "execute_result",
          "data": {
            "text/plain": [
              "array([[ 8, 16],\n",
              "       [16, 32]])"
            ]
          },
          "metadata": {},
          "execution_count": 95
        }
      ]
    },
    {
      "cell_type": "markdown",
      "source": [
        "## HW3 \n",
        "\n",
        "1. สร้าง array ที่เป็นรูป ต้น christmas\n",
        "2. slicing เลข 1 ออกมาจาก array HW3 ด้วยการ slic แค่ครั้งเดียว"
      ],
      "metadata": {
        "id": "OkRurlcTik6s"
      }
    },
    {
      "cell_type": "code",
      "source": [
        "HW3 = np.zeros((10,10))\n",
        "HW3"
      ],
      "metadata": {
        "id": "s-VjC9O0iAY5",
        "outputId": "64b36924-d9cb-42ef-e809-e21beb6897d6",
        "colab": {
          "base_uri": "https://localhost:8080/"
        }
      },
      "execution_count": 96,
      "outputs": [
        {
          "output_type": "execute_result",
          "data": {
            "text/plain": [
              "array([[0., 0., 0., 0., 0., 0., 0., 0., 0., 0.],\n",
              "       [0., 0., 0., 0., 0., 0., 0., 0., 0., 0.],\n",
              "       [0., 0., 0., 0., 0., 0., 0., 0., 0., 0.],\n",
              "       [0., 0., 0., 0., 0., 0., 0., 0., 0., 0.],\n",
              "       [0., 0., 0., 0., 0., 0., 0., 0., 0., 0.],\n",
              "       [0., 0., 0., 0., 0., 0., 0., 0., 0., 0.],\n",
              "       [0., 0., 0., 0., 0., 0., 0., 0., 0., 0.],\n",
              "       [0., 0., 0., 0., 0., 0., 0., 0., 0., 0.],\n",
              "       [0., 0., 0., 0., 0., 0., 0., 0., 0., 0.],\n",
              "       [0., 0., 0., 0., 0., 0., 0., 0., 0., 0.]])"
            ]
          },
          "metadata": {},
          "execution_count": 96
        }
      ]
    },
    {
      "cell_type": "code",
      "source": [
        "HW3[::4,2] = 1\n",
        "HW3[::4,4] = 1\n",
        "HW3[::4,6] = 1\n",
        "HW3[::4,8] = 1\n",
        "HW3"
      ],
      "metadata": {
        "id": "ljzxHZhaiAWI",
        "outputId": "9771aa16-2b27-4f6d-d65e-e3cc2b8f1669",
        "colab": {
          "base_uri": "https://localhost:8080/"
        }
      },
      "execution_count": 97,
      "outputs": [
        {
          "output_type": "execute_result",
          "data": {
            "text/plain": [
              "array([[0., 0., 1., 0., 1., 0., 1., 0., 1., 0.],\n",
              "       [0., 0., 0., 0., 0., 0., 0., 0., 0., 0.],\n",
              "       [0., 0., 0., 0., 0., 0., 0., 0., 0., 0.],\n",
              "       [0., 0., 0., 0., 0., 0., 0., 0., 0., 0.],\n",
              "       [0., 0., 1., 0., 1., 0., 1., 0., 1., 0.],\n",
              "       [0., 0., 0., 0., 0., 0., 0., 0., 0., 0.],\n",
              "       [0., 0., 0., 0., 0., 0., 0., 0., 0., 0.],\n",
              "       [0., 0., 0., 0., 0., 0., 0., 0., 0., 0.],\n",
              "       [0., 0., 1., 0., 1., 0., 1., 0., 1., 0.],\n",
              "       [0., 0., 0., 0., 0., 0., 0., 0., 0., 0.]])"
            ]
          },
          "metadata": {},
          "execution_count": 97
        }
      ]
    },
    {
      "cell_type": "code",
      "source": [
        ""
      ],
      "metadata": {
        "id": "WJUVvrbkiAUG"
      },
      "execution_count": 97,
      "outputs": []
    },
    {
      "cell_type": "code",
      "source": [
        "CM = np.ones((15,15))\n",
        "CM"
      ],
      "metadata": {
        "colab": {
          "base_uri": "https://localhost:8080/"
        },
        "id": "_u_dePDTm6ZS",
        "outputId": "1e67343c-d921-4d01-b0bf-02299998eb02"
      },
      "execution_count": null,
      "outputs": [
        {
          "output_type": "execute_result",
          "data": {
            "text/plain": [
              "array([[1., 1., 1., 1., 1., 1., 1., 1., 1., 1., 1., 1., 1., 1., 1.],\n",
              "       [1., 1., 1., 1., 1., 1., 1., 1., 1., 1., 1., 1., 1., 1., 1.],\n",
              "       [1., 1., 1., 1., 1., 1., 1., 1., 1., 1., 1., 1., 1., 1., 1.],\n",
              "       [1., 1., 1., 1., 1., 1., 1., 1., 1., 1., 1., 1., 1., 1., 1.],\n",
              "       [1., 1., 1., 1., 1., 1., 1., 1., 1., 1., 1., 1., 1., 1., 1.],\n",
              "       [1., 1., 1., 1., 1., 1., 1., 1., 1., 1., 1., 1., 1., 1., 1.],\n",
              "       [1., 1., 1., 1., 1., 1., 1., 1., 1., 1., 1., 1., 1., 1., 1.],\n",
              "       [1., 1., 1., 1., 1., 1., 1., 1., 1., 1., 1., 1., 1., 1., 1.],\n",
              "       [1., 1., 1., 1., 1., 1., 1., 1., 1., 1., 1., 1., 1., 1., 1.],\n",
              "       [1., 1., 1., 1., 1., 1., 1., 1., 1., 1., 1., 1., 1., 1., 1.],\n",
              "       [1., 1., 1., 1., 1., 1., 1., 1., 1., 1., 1., 1., 1., 1., 1.],\n",
              "       [1., 1., 1., 1., 1., 1., 1., 1., 1., 1., 1., 1., 1., 1., 1.],\n",
              "       [1., 1., 1., 1., 1., 1., 1., 1., 1., 1., 1., 1., 1., 1., 1.],\n",
              "       [1., 1., 1., 1., 1., 1., 1., 1., 1., 1., 1., 1., 1., 1., 1.],\n",
              "       [1., 1., 1., 1., 1., 1., 1., 1., 1., 1., 1., 1., 1., 1., 1.]])"
            ]
          },
          "metadata": {},
          "execution_count": 100
        }
      ]
    },
    {
      "cell_type": "code",
      "source": [
        "CM[:,7] = 6\n",
        "CM[1:,8] =6\n",
        "CM[2:11,6]=6\n",
        "CM[3:11,5]=6\n",
        "CM[4,4]=6\n",
        "CM[6:11,4]=6\n",
        "CM[7,3]=6\n",
        "CM[9:11,3]=6\n",
        "CM[10,2]=6\n",
        "CM[2:11,9]=6\n",
        "CM[3:11,10]=6\n",
        "CM[4,11]=6\n",
        "CM[6:11,11]=6\n",
        "CM[7,12]=6\n",
        "CM[9:11,12]=6\n",
        "CM[10,13]=6\n",
        "CM"
      ],
      "metadata": {
        "colab": {
          "base_uri": "https://localhost:8080/"
        },
        "id": "2aWLAP8Knc71",
        "outputId": "74304bd6-824c-44c9-fa6f-178f4b0d7e57"
      },
      "execution_count": null,
      "outputs": [
        {
          "output_type": "execute_result",
          "data": {
            "text/plain": [
              "array([[1., 1., 1., 1., 1., 1., 1., 6., 1., 1., 1., 1., 1., 1., 1.],\n",
              "       [1., 1., 1., 1., 1., 1., 1., 6., 6., 1., 1., 1., 1., 1., 1.],\n",
              "       [1., 1., 1., 1., 1., 1., 6., 6., 6., 6., 1., 1., 1., 1., 1.],\n",
              "       [1., 1., 1., 1., 1., 6., 6., 6., 6., 6., 6., 1., 1., 1., 1.],\n",
              "       [1., 1., 1., 1., 6., 6., 6., 6., 6., 6., 6., 6., 1., 1., 1.],\n",
              "       [1., 1., 1., 1., 1., 6., 6., 6., 6., 6., 6., 1., 1., 1., 1.],\n",
              "       [1., 1., 1., 1., 6., 6., 6., 6., 6., 6., 6., 6., 1., 1., 1.],\n",
              "       [1., 1., 1., 6., 6., 6., 6., 6., 6., 6., 6., 6., 6., 1., 1.],\n",
              "       [1., 1., 1., 1., 6., 6., 6., 6., 6., 6., 6., 6., 1., 1., 1.],\n",
              "       [1., 1., 1., 6., 6., 6., 6., 6., 6., 6., 6., 6., 6., 1., 1.],\n",
              "       [1., 1., 6., 6., 6., 6., 6., 6., 6., 6., 6., 6., 6., 6., 1.],\n",
              "       [1., 1., 1., 1., 1., 1., 1., 6., 6., 1., 1., 1., 1., 1., 1.],\n",
              "       [1., 1., 1., 1., 1., 1., 1., 6., 6., 1., 1., 1., 1., 1., 1.],\n",
              "       [1., 1., 1., 1., 1., 1., 1., 6., 6., 1., 1., 1., 1., 1., 1.],\n",
              "       [1., 1., 1., 1., 1., 1., 1., 6., 6., 1., 1., 1., 1., 1., 1.]])"
            ]
          },
          "metadata": {},
          "execution_count": 101
        }
      ]
    },
    {
      "cell_type": "code",
      "source": [
        "HW3 = np.zeros((10,10))\n",
        "HW3"
      ],
      "metadata": {
        "id": "Bf0rC-B-i1sO",
        "outputId": "cd2fc6bb-0b79-416d-a852-f84227946e73",
        "colab": {
          "base_uri": "https://localhost:8080/"
        }
      },
      "execution_count": null,
      "outputs": [
        {
          "output_type": "execute_result",
          "data": {
            "text/plain": [
              "array([[0., 0., 0., 0., 0., 0., 0., 0., 0., 0.],\n",
              "       [0., 0., 0., 0., 0., 0., 0., 0., 0., 0.],\n",
              "       [0., 0., 0., 0., 0., 0., 0., 0., 0., 0.],\n",
              "       [0., 0., 0., 0., 0., 0., 0., 0., 0., 0.],\n",
              "       [0., 0., 0., 0., 0., 0., 0., 0., 0., 0.],\n",
              "       [0., 0., 0., 0., 0., 0., 0., 0., 0., 0.],\n",
              "       [0., 0., 0., 0., 0., 0., 0., 0., 0., 0.],\n",
              "       [0., 0., 0., 0., 0., 0., 0., 0., 0., 0.],\n",
              "       [0., 0., 0., 0., 0., 0., 0., 0., 0., 0.],\n",
              "       [0., 0., 0., 0., 0., 0., 0., 0., 0., 0.]])"
            ]
          },
          "metadata": {},
          "execution_count": 102
        }
      ]
    },
    {
      "cell_type": "code",
      "source": [
        "HW3 [::4,2] =1\n",
        "HW3 [::4,4] =1\n",
        "HW3 [::4,6] =1\n",
        "HW3 [::4,8] =1\n",
        "HW3 "
      ],
      "metadata": {
        "id": "ceWdF94skWfO",
        "outputId": "98ef2b59-c1d2-4936-8f97-e8016bc398c8",
        "colab": {
          "base_uri": "https://localhost:8080/"
        }
      },
      "execution_count": null,
      "outputs": [
        {
          "output_type": "execute_result",
          "data": {
            "text/plain": [
              "array([[0., 0., 1., 0., 1., 0., 1., 0., 1., 0.],\n",
              "       [0., 0., 0., 0., 0., 0., 0., 0., 0., 0.],\n",
              "       [0., 0., 0., 0., 0., 0., 0., 0., 0., 0.],\n",
              "       [0., 0., 0., 0., 0., 0., 0., 0., 0., 0.],\n",
              "       [0., 0., 1., 0., 1., 0., 1., 0., 1., 0.],\n",
              "       [0., 0., 0., 0., 0., 0., 0., 0., 0., 0.],\n",
              "       [0., 0., 0., 0., 0., 0., 0., 0., 0., 0.],\n",
              "       [0., 0., 0., 0., 0., 0., 0., 0., 0., 0.],\n",
              "       [0., 0., 1., 0., 1., 0., 1., 0., 1., 0.],\n",
              "       [0., 0., 0., 0., 0., 0., 0., 0., 0., 0.]])"
            ]
          },
          "metadata": {},
          "execution_count": 103
        }
      ]
    },
    {
      "cell_type": "code",
      "source": [
        "HW3[::4,2::2]"
      ],
      "metadata": {
        "id": "6zkh1XdgzHgz",
        "outputId": "416582fc-2508-41fa-9c89-3fc6bd07ff19",
        "colab": {
          "base_uri": "https://localhost:8080/"
        }
      },
      "execution_count": null,
      "outputs": [
        {
          "output_type": "execute_result",
          "data": {
            "text/plain": [
              "array([[1., 1., 1., 1.],\n",
              "       [1., 1., 1., 1.],\n",
              "       [1., 1., 1., 1.]])"
            ]
          },
          "metadata": {},
          "execution_count": 104
        }
      ]
    },
    {
      "cell_type": "markdown",
      "source": [
        "### Pandas Dataframe (แยกออกเป็น notebook เฉพาะ)"
      ],
      "metadata": {
        "id": "UduXkOT-O3xy"
      }
    },
    {
      "cell_type": "code",
      "source": [
        ""
      ],
      "metadata": {
        "id": "N8D9l-4KOVbC"
      },
      "execution_count": 97,
      "outputs": []
    }
  ]
}