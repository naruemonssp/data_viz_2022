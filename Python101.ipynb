{
  "nbformat": 4,
  "nbformat_minor": 0,
  "metadata": {
    "colab": {
      "name": "Python101.ipynb",
      "provenance": [],
      "include_colab_link": true
    },
    "kernelspec": {
      "name": "python3",
      "display_name": "Python 3"
    },
    "language_info": {
      "name": "python"
    }
  },
  "cells": [
    {
      "cell_type": "markdown",
      "metadata": {
        "id": "view-in-github",
        "colab_type": "text"
      },
      "source": [
        "<a href=\"https://colab.research.google.com/github/naruemonssp/data_viz_2022/blob/main/Python101.ipynb\" target=\"_parent\"><img src=\"https://colab.research.google.com/assets/colab-badge.svg\" alt=\"Open In Colab\"/></a>"
      ]
    },
    {
      "cell_type": "markdown",
      "source": [
        "ข้อความในช่อง text เป็นภาษา Markdown (https://www.markdownguide.org/cheat-sheet)"
      ],
      "metadata": {
        "id": "Us9cd1M-JHui"
      }
    },
    {
      "cell_type": "markdown",
      "source": [
        "# การจัดการข้อความในการแสดงผล\n",
        "## String\n",
        "### test heading 3"
      ],
      "metadata": {
        "id": "_S2WkBGTJj41"
      }
    },
    {
      "cell_type": "markdown",
      "source": [
        "`print(ข้อความ)`"
      ],
      "metadata": {
        "id": "CMQ3lysmKnaQ"
      }
    },
    {
      "cell_type": "code",
      "execution_count": null,
      "metadata": {
        "colab": {
          "base_uri": "https://localhost:8080/",
          "height": 35
        },
        "id": "Fl0ya1LuI_58",
        "outputId": "2849eebf-87ac-4220-cbc8-528621c9afc8"
      },
      "outputs": [
        {
          "output_type": "execute_result",
          "data": {
            "application/vnd.google.colaboratory.intrinsic+json": {
              "type": "string"
            },
            "text/plain": [
              "'สถิติ'"
            ]
          },
          "metadata": {},
          "execution_count": 8
        }
      ],
      "source": [
        "'สถิติ' # ' quote เหมือนกันกับอันข้างล่างไม่ได้ต่างกันเวลาแสดงผลออกมา"
      ]
    },
    {
      "cell_type": "code",
      "source": [
        "\"สถิติ\" # \" quote"
      ],
      "metadata": {
        "colab": {
          "base_uri": "https://localhost:8080/",
          "height": 35
        },
        "id": "7RhJoX5yLQEJ",
        "outputId": "a7f4e3ee-ffa7-473c-b10a-f56ad2b75bbd"
      },
      "execution_count": null,
      "outputs": [
        {
          "output_type": "execute_result",
          "data": {
            "application/vnd.google.colaboratory.intrinsic+json": {
              "type": "string"
            },
            "text/plain": [
              "'สถิติ'"
            ]
          },
          "metadata": {},
          "execution_count": 9
        }
      ]
    },
    {
      "cell_type": "code",
      "source": [
        "1+3 # 1+3 = 4 "
      ],
      "metadata": {
        "colab": {
          "base_uri": "https://localhost:8080/"
        },
        "id": "QP9Jnp-kL2SF",
        "outputId": "8823a798-ad42-41c3-9aea-cc6ae73d6111"
      },
      "execution_count": null,
      "outputs": [
        {
          "output_type": "execute_result",
          "data": {
            "text/plain": [
              "4"
            ]
          },
          "metadata": {},
          "execution_count": 10
        }
      ]
    },
    {
      "cell_type": "code",
      "source": [
        "'1' + '3' #ข้อความบวกกันเวลาแสดงผลตัวเลขจะมาต่อกันเลย"
      ],
      "metadata": {
        "colab": {
          "base_uri": "https://localhost:8080/",
          "height": 35
        },
        "id": "rVyqVAxKL4Kk",
        "outputId": "2775aac7-75f7-44c9-ea64-0a0b8b6e219e"
      },
      "execution_count": null,
      "outputs": [
        {
          "output_type": "execute_result",
          "data": {
            "application/vnd.google.colaboratory.intrinsic+json": {
              "type": "string"
            },
            "text/plain": [
              "'13'"
            ]
          },
          "metadata": {},
          "execution_count": 11
        }
      ]
    },
    {
      "cell_type": "code",
      "source": [
        "1-3 #สามารถลบกันได้"
      ],
      "metadata": {
        "colab": {
          "base_uri": "https://localhost:8080/"
        },
        "id": "pHTJUmZrMFV4",
        "outputId": "8c7bdbab-4c56-4129-ee15-386b3335c82f"
      },
      "execution_count": null,
      "outputs": [
        {
          "output_type": "execute_result",
          "data": {
            "text/plain": [
              "-2"
            ]
          },
          "metadata": {},
          "execution_count": 12
        }
      ]
    },
    {
      "cell_type": "code",
      "source": [
        "'1'-'3' #ข้อความมาลบกันไม่ได้"
      ],
      "metadata": {
        "colab": {
          "base_uri": "https://localhost:8080/",
          "height": 166
        },
        "id": "dLVL1oZ7MHjI",
        "outputId": "76ba4f3b-06b5-4926-8955-f6efdc587990"
      },
      "execution_count": null,
      "outputs": [
        {
          "output_type": "error",
          "ename": "TypeError",
          "evalue": "ignored",
          "traceback": [
            "\u001b[0;31m---------------------------------------------------------------------------\u001b[0m",
            "\u001b[0;31mTypeError\u001b[0m                                 Traceback (most recent call last)",
            "\u001b[0;32m<ipython-input-14-0671b3d45cb2>\u001b[0m in \u001b[0;36m<module>\u001b[0;34m()\u001b[0m\n\u001b[0;32m----> 1\u001b[0;31m \u001b[0;34m'1'\u001b[0m\u001b[0;34m-\u001b[0m\u001b[0;34m'3'\u001b[0m \u001b[0;31m#ข้อความมาลบกันไม่ได้\u001b[0m\u001b[0;34m\u001b[0m\u001b[0;34m\u001b[0m\u001b[0m\n\u001b[0m",
            "\u001b[0;31mTypeError\u001b[0m: unsupported operand type(s) for -: 'str' and 'str'"
          ]
        }
      ]
    },
    {
      "cell_type": "markdown",
      "source": [
        "## Print (ข้อความ)"
      ],
      "metadata": {
        "id": "k8zIAINGMYQs"
      }
    },
    {
      "cell_type": "code",
      "source": [
        "print('ข้อความที่อยากให้ print')"
      ],
      "metadata": {
        "colab": {
          "base_uri": "https://localhost:8080/"
        },
        "id": "wn4jyT9ZNDaP",
        "outputId": "c9a9ac21-5f93-45b3-e090-e819d65ac96f"
      },
      "execution_count": null,
      "outputs": [
        {
          "output_type": "stream",
          "name": "stdout",
          "text": [
            "ข้อความที่อยากให้ print\n"
          ]
        }
      ]
    },
    {
      "cell_type": "markdown",
      "source": [
        "# ตัวแปร (Variables)"
      ],
      "metadata": {
        "id": "o9xF8XTGKCUK"
      }
    },
    {
      "cell_type": "code",
      "source": [
        "vartest1 = 3 #ถ้าไม่แสดงค่าแสดงว่า 3 เก็บไว้ในตัวแปร vartest1"
      ],
      "metadata": {
        "id": "qCKESZytKGzo"
      },
      "execution_count": null,
      "outputs": []
    },
    {
      "cell_type": "code",
      "source": [
        "vartest1 #แสดงค่าออกมา"
      ],
      "metadata": {
        "colab": {
          "base_uri": "https://localhost:8080/"
        },
        "id": "Jw7J0tEHN7J_",
        "outputId": "4059eece-1d62-49ce-f0d6-741e7900aa83"
      },
      "execution_count": null,
      "outputs": [
        {
          "output_type": "execute_result",
          "data": {
            "text/plain": [
              "3"
            ]
          },
          "metadata": {},
          "execution_count": 17
        }
      ]
    },
    {
      "cell_type": "code",
      "source": [
        "print(vartest1) #แสดงค่าออกมาเหมือนกัน"
      ],
      "metadata": {
        "colab": {
          "base_uri": "https://localhost:8080/"
        },
        "id": "rY_WhvPVOCCT",
        "outputId": "8fe5d4c8-9f4e-416a-f61e-7438246181cd"
      },
      "execution_count": null,
      "outputs": [
        {
          "output_type": "stream",
          "name": "stdout",
          "text": [
            "3\n"
          ]
        }
      ]
    },
    {
      "cell_type": "code",
      "source": [
        "vartest2 = '1'+'3' #เก็บตัวแปร String ไว้ในตัวแปรชื่อว่า vartest2"
      ],
      "metadata": {
        "id": "6KeieRjFOHUF"
      },
      "execution_count": null,
      "outputs": []
    },
    {
      "cell_type": "code",
      "source": [
        "vartest2 #รันค่าออก จะเห็นค่า ถ้าเป็น String จะเอาตัวหนังสือมาต่อกัน"
      ],
      "metadata": {
        "colab": {
          "base_uri": "https://localhost:8080/",
          "height": 35
        },
        "id": "QVy4L9UOOLHa",
        "outputId": "7b710787-d462-4e75-9c38-d18a64394582"
      },
      "execution_count": null,
      "outputs": [
        {
          "output_type": "execute_result",
          "data": {
            "application/vnd.google.colaboratory.intrinsic+json": {
              "type": "string"
            },
            "text/plain": [
              "'13'"
            ]
          },
          "metadata": {},
          "execution_count": 20
        }
      ]
    },
    {
      "cell_type": "code",
      "source": [
        "print(vartest2)"
      ],
      "metadata": {
        "colab": {
          "base_uri": "https://localhost:8080/"
        },
        "id": "PEOD1vH9OP1C",
        "outputId": "023f89ba-3b8f-4158-eef9-91473ecc56a6"
      },
      "execution_count": null,
      "outputs": [
        {
          "output_type": "stream",
          "name": "stdout",
          "text": [
            "13\n"
          ]
        }
      ]
    },
    {
      "cell_type": "markdown",
      "source": [
        "## ข้อกำหนดในการตั้งชื่อตัวแปร\n",
        "1. ตั้งให้สื่อความหมาย\n",
        "2. ต้องเป็นภาษาอังกฤษ\n",
        "3. ใช้ตัวเลขผสมกับตัวหนังสือได้ แต่ห้ามขึ้นต้นด้วยตัวเลข\n",
        "4. ห้ามมีเว้นวรรคในชื่อตัวแปร\n",
        "5. ตัวใหญ่ ตัวเล็ก ค่าไม่เท่ากัน"
      ],
      "metadata": {
        "id": "MqqHtV8mOzS3"
      }
    },
    {
      "cell_type": "code",
      "source": [
        "1a = 7  #แบบนี้ไม่ได้เพราะตัวแปรขึ้นต้นด้วยตัวเลข"
      ],
      "metadata": {
        "colab": {
          "base_uri": "https://localhost:8080/",
          "height": 132
        },
        "id": "R8Cwppl4PMOm",
        "outputId": "d3f8f59a-d560-4d27-89c8-d075735879ad"
      },
      "execution_count": null,
      "outputs": [
        {
          "output_type": "error",
          "ename": "SyntaxError",
          "evalue": "ignored",
          "traceback": [
            "\u001b[0;36m  File \u001b[0;32m\"<ipython-input-23-54dbbbb36370>\"\u001b[0;36m, line \u001b[0;32m1\u001b[0m\n\u001b[0;31m    1a = 7  #แบบนี้ไม่ได้เพราะตัวแปรขึ้นต้นด้วยตัวเลข\u001b[0m\n\u001b[0m     ^\u001b[0m\n\u001b[0;31mSyntaxError\u001b[0m\u001b[0;31m:\u001b[0m invalid syntax\n"
          ]
        }
      ]
    },
    {
      "cell_type": "code",
      "source": [
        "variable a = 1 #แบบนี้ไม่ได้เพราะมีเว้นวรรค"
      ],
      "metadata": {
        "colab": {
          "base_uri": "https://localhost:8080/",
          "height": 132
        },
        "id": "7xy6AlzKOTah",
        "outputId": "c9c014ae-51cf-444c-9317-d1db8c271972"
      },
      "execution_count": null,
      "outputs": [
        {
          "output_type": "error",
          "ename": "SyntaxError",
          "evalue": "ignored",
          "traceback": [
            "\u001b[0;36m  File \u001b[0;32m\"<ipython-input-66-c3cafd32fc5d>\"\u001b[0;36m, line \u001b[0;32m1\u001b[0m\n\u001b[0;31m    variable a = 1 #แบบนี้ไม่ได้เพราะมีเว้นวรรค\u001b[0m\n\u001b[0m             ^\u001b[0m\n\u001b[0;31mSyntaxError\u001b[0m\u001b[0;31m:\u001b[0m invalid syntax\n"
          ]
        }
      ]
    },
    {
      "cell_type": "markdown",
      "source": [
        "## Advanced Prining\n",
        "เราสามารถ print ตัวแปรร่วมกับข้อความได้ \n",
        "``` python\n",
        "print (f'ข้อความ{code}')\n",
        "```"
      ],
      "metadata": {
        "id": "enEbzytxQAxT"
      }
    },
    {
      "cell_type": "code",
      "source": [
        "print(f'หนึ่ง บวก สอง (1+2) เท่ากับ สาม ({1+2})') # { } เรียกว่า Curly Backets "
      ],
      "metadata": {
        "colab": {
          "base_uri": "https://localhost:8080/"
        },
        "id": "OGvL-syrPqlv",
        "outputId": "1e4d4d2b-289e-4253-8def-4e3e029edfb9"
      },
      "execution_count": null,
      "outputs": [
        {
          "output_type": "stream",
          "name": "stdout",
          "text": [
            "หนึ่ง บวก สอง (1+2) เท่ากับ สาม (3)\n"
          ]
        }
      ]
    },
    {
      "cell_type": "code",
      "source": [
        "a = 1 \n",
        "b= 2 \n",
        "print(f'หนึ่ง บวก สอง ({a}+{b}) เท่ากับ สาม ({a+b})') #ลองปริ้นค่า a และ b ออกมา โดนใช้คำสั่ง print "
      ],
      "metadata": {
        "colab": {
          "base_uri": "https://localhost:8080/"
        },
        "id": "VWiUvpPVRU8d",
        "outputId": "c0ab2fc7-c2fd-46f7-e02a-bc9b7c75143a"
      },
      "execution_count": null,
      "outputs": [
        {
          "output_type": "stream",
          "name": "stdout",
          "text": [
            "หนึ่ง บวก สอง (1+2) เท่ากับ สาม (3)\n"
          ]
        }
      ]
    },
    {
      "cell_type": "code",
      "source": [
        "a = 5 #ตัวแปร a = 5\n",
        "b= 2 #ตัวแปร b = 2 "
      ],
      "metadata": {
        "id": "48tdTXoDRlcr"
      },
      "execution_count": null,
      "outputs": []
    },
    {
      "cell_type": "code",
      "source": [
        "print(f'{a}+{b} =  {a+b}')  #ลองปริ้นค่า a และ b ออกมา โดนใช้คำสั่ง print "
      ],
      "metadata": {
        "colab": {
          "base_uri": "https://localhost:8080/"
        },
        "id": "WtoFe_pXRs9T",
        "outputId": "9088226d-bfe0-4088-a1c7-454562711b5f"
      },
      "execution_count": null,
      "outputs": [
        {
          "output_type": "stream",
          "name": "stdout",
          "text": [
            "5+2 =  7\n"
          ]
        }
      ]
    },
    {
      "cell_type": "code",
      "source": [
        "a = -1 #ตัวแปร a = -1 \n",
        "b = 11 #ตัวแปร b = 11"
      ],
      "metadata": {
        "id": "L-2nHdKER1jD"
      },
      "execution_count": null,
      "outputs": []
    },
    {
      "cell_type": "markdown",
      "source": [
        "## ชนิดของตัวแปร"
      ],
      "metadata": {
        "id": "KMSVH5uTU_-9"
      }
    },
    {
      "cell_type": "markdown",
      "source": [
        "### char (acter) (ตัวอักษร)"
      ],
      "metadata": {
        "id": "ji-f_zhqVDK6"
      }
    },
    {
      "cell_type": "code",
      "source": [
        "a = 'Ch' #มีมากกว่า 1 ตัวเป็น String "
      ],
      "metadata": {
        "id": "RxmQk7JjTiut"
      },
      "execution_count": null,
      "outputs": []
    },
    {
      "cell_type": "code",
      "source": [
        "b = 'aracter' #ตัวแปร b เก็บค่า คำว่า aracter"
      ],
      "metadata": {
        "id": "UHWAx022VNMx"
      },
      "execution_count": null,
      "outputs": []
    },
    {
      "cell_type": "code",
      "source": [
        "print(f'a={a} b={b} , then {a}+{b} = {a+b}') #ปริ้นค่า a และ b ออกมา โดนใช้คำสั่ง print และให้ข้อความต่อกัน โดนใช้ + ข้อความจะต่อกันถ้าเป็นชนิด String "
      ],
      "metadata": {
        "colab": {
          "base_uri": "https://localhost:8080/"
        },
        "id": "iVvzAdN7VQ5E",
        "outputId": "efe4b4d8-8af6-4c63-b8ea-fc936f5b2101"
      },
      "execution_count": null,
      "outputs": [
        {
          "output_type": "stream",
          "name": "stdout",
          "text": [
            "a=Ch b=aracter , then Ch+aracter = Character\n"
          ]
        }
      ]
    },
    {
      "cell_type": "code",
      "source": [
        "A = 'c' #ตัวเดียวเป็น Charecter\n",
        "B = 'a' #ตัวเดียวเป็น Charecter"
      ],
      "metadata": {
        "id": "OOM35OxaVbUN"
      },
      "execution_count": null,
      "outputs": []
    },
    {
      "cell_type": "code",
      "source": [
        "print(A+B) #ปริ้นค่า a และ b ออกมา โดนใช้คำสั่ง print"
      ],
      "metadata": {
        "colab": {
          "base_uri": "https://localhost:8080/"
        },
        "id": "453VuLNrVfIk",
        "outputId": "5fb2e4cc-7563-4ee0-d2de-db84792fafd1"
      },
      "execution_count": null,
      "outputs": [
        {
          "output_type": "stream",
          "name": "stdout",
          "text": [
            "ca\n"
          ]
        }
      ]
    },
    {
      "cell_type": "markdown",
      "source": [
        "### Int (eger) (จำนวนเต็ม)"
      ],
      "metadata": {
        "id": "JsagqoWWWeX1"
      }
    },
    {
      "cell_type": "code",
      "source": [
        "int_a = 7 #จำนวนเต็ม \n",
        "int_b = 2 #จำนวนเต็ม "
      ],
      "metadata": {
        "id": "OrbEd-VhViBN"
      },
      "execution_count": null,
      "outputs": []
    },
    {
      "cell_type": "code",
      "source": [
        "int_c = int_a + int_b #int_c คือ เอา int_a + int_b บวกกัน จะได้ 7+2 = 9 นั่นเอง\n",
        "print(int_c)"
      ],
      "metadata": {
        "colab": {
          "base_uri": "https://localhost:8080/"
        },
        "id": "7Fc1h-yOWpMG",
        "outputId": "8afcdfe7-4728-43ba-869c-2491beab39c0"
      },
      "execution_count": null,
      "outputs": [
        {
          "output_type": "stream",
          "name": "stdout",
          "text": [
            "9\n"
          ]
        }
      ]
    },
    {
      "cell_type": "markdown",
      "source": [
        "### Float (จำนวนจริง ทศนิยม)"
      ],
      "metadata": {
        "id": "49D5h0t3XNL9"
      }
    },
    {
      "cell_type": "code",
      "source": [
        "fl_a = 7. #ถ้าอยากให้เป็น float ให้เติมจุดด้านหลัง\n",
        "fl_b = 2.571"
      ],
      "metadata": {
        "id": "K0oRL-eSWwZ_"
      },
      "execution_count": null,
      "outputs": []
    },
    {
      "cell_type": "code",
      "source": [
        "fl_a #รันค่าตัวแปร fl_a จะเห็นว่าเป็นทศนิยม "
      ],
      "metadata": {
        "colab": {
          "base_uri": "https://localhost:8080/"
        },
        "id": "q5QVA55qXt2Y",
        "outputId": "d64b2ef2-1f08-4ff5-88a1-7da4996a8a68"
      },
      "execution_count": null,
      "outputs": [
        {
          "output_type": "execute_result",
          "data": {
            "text/plain": [
              "7.0"
            ]
          },
          "metadata": {},
          "execution_count": 80
        }
      ]
    },
    {
      "cell_type": "code",
      "source": [
        "fl_b #รันค่าตัวแปร fl_b จะเห็นว่าเป็นทศนิยม "
      ],
      "metadata": {
        "colab": {
          "base_uri": "https://localhost:8080/"
        },
        "id": "juGiQH4tX03T",
        "outputId": "a67520fc-db87-4b24-c6d1-ca210118c686"
      },
      "execution_count": null,
      "outputs": [
        {
          "output_type": "execute_result",
          "data": {
            "text/plain": [
              "2.571"
            ]
          },
          "metadata": {},
          "execution_count": 81
        }
      ]
    },
    {
      "cell_type": "code",
      "source": [
        "print(fl_a) #ปริ้นตัวแปร fl_a จะเห็นว่าเป็นทศนิยม "
      ],
      "metadata": {
        "colab": {
          "base_uri": "https://localhost:8080/"
        },
        "id": "ez9zY6HVYZWO",
        "outputId": "ce9bd1fb-97d8-430f-9389-c11a12803859"
      },
      "execution_count": null,
      "outputs": [
        {
          "output_type": "stream",
          "name": "stdout",
          "text": [
            "7.0\n"
          ]
        }
      ]
    },
    {
      "cell_type": "code",
      "source": [
        "print(fl_b) #ปริ้นตัวแปร fl_b จะเห็นว่าเป็นทศนิยม "
      ],
      "metadata": {
        "colab": {
          "base_uri": "https://localhost:8080/"
        },
        "id": "vZNu0614Yhig",
        "outputId": "546904df-afa4-42fc-f321-047be141c519"
      },
      "execution_count": null,
      "outputs": [
        {
          "output_type": "stream",
          "name": "stdout",
          "text": [
            "2.571\n"
          ]
        }
      ]
    },
    {
      "cell_type": "code",
      "source": [
        "print(fl_a + fl_b) #ปริ้นตัวแปร fl_a  + กับ lf_b จะเห็นว่าคำตอบออกมาเป็นทศนิยม "
      ],
      "metadata": {
        "colab": {
          "base_uri": "https://localhost:8080/"
        },
        "id": "o5BBOZQIYkpQ",
        "outputId": "61d2c2b5-588a-4d1e-fbd5-67b579349fc9"
      },
      "execution_count": null,
      "outputs": [
        {
          "output_type": "stream",
          "name": "stdout",
          "text": [
            "9.571\n"
          ]
        }
      ]
    },
    {
      "cell_type": "markdown",
      "source": [
        "### Boolean (ตัวแปรที่มีค่า True หรือ False) ตรรกศาสตร์"
      ],
      "metadata": {
        "id": "WUFILMF9ZSsn"
      }
    },
    {
      "cell_type": "code",
      "source": [
        "b_T = True #สังเกตต้องเป็นหนังสือสีฟ้าเพราะเป็นคำสงวนไว้"
      ],
      "metadata": {
        "id": "_GP7LsasZq4o"
      },
      "execution_count": null,
      "outputs": []
    },
    {
      "cell_type": "code",
      "source": [
        "b_F = False #สังเกตต้องเป็นหนังสือสีฟ้าเพราะเป็นคำสงวนไว้"
      ],
      "metadata": {
        "id": "2tERDTxTZwzc"
      },
      "execution_count": null,
      "outputs": []
    },
    {
      "cell_type": "markdown",
      "source": [
        "### Complex (จำนวนเชิงซ้อน)"
      ],
      "metadata": {
        "id": "W9LPShkebsQf"
      }
    },
    {
      "cell_type": "code",
      "source": [
        "x = 1 +2j #จำนวนเชิงซ้อน "
      ],
      "metadata": {
        "id": "A1dBcR5Mb1QL"
      },
      "execution_count": null,
      "outputs": []
    },
    {
      "cell_type": "markdown",
      "source": [
        "### เราสามารถตรวจสอบชนิดของตัวแปรด้วยคำสั่ง type()"
      ],
      "metadata": {
        "id": "_ACcW83Qb4u_"
      }
    },
    {
      "cell_type": "code",
      "source": [
        "print(f'ตัวแปร x ค่าคือ {x} ชนิด {type(x)}') #คำการตรวจสอบชนิดของตัวแปรโดยใช้คำสั่ง type "
      ],
      "metadata": {
        "colab": {
          "base_uri": "https://localhost:8080/"
        },
        "id": "P_VGubbCb_HA",
        "outputId": "e58a6af9-34d0-4ad9-b0e0-b4724e42eeeb"
      },
      "execution_count": null,
      "outputs": [
        {
          "output_type": "stream",
          "name": "stdout",
          "text": [
            "ตัวแปร x ค่าคือ (1+2j) ชนิด <class 'complex'>\n"
          ]
        }
      ]
    },
    {
      "cell_type": "code",
      "source": [
        "print(f'ตัวแปร A ค่าคือ {A} ชนิด {type(A)}') #คำการตรวจสอบชนิดของตัวแปรโดยใช้คำสั่ง type "
      ],
      "metadata": {
        "colab": {
          "base_uri": "https://localhost:8080/"
        },
        "id": "OIRhDMnVclLz",
        "outputId": "02e4b7b1-c32b-4e1b-ac84-ad95b860ce67"
      },
      "execution_count": null,
      "outputs": [
        {
          "output_type": "stream",
          "name": "stdout",
          "text": [
            "ตัวแปร A ค่าคือ c ชนิด <class 'str'>\n"
          ]
        }
      ]
    },
    {
      "cell_type": "code",
      "source": [
        "print(f'ตัวแปร a ค่าคือ {a} ชนิด {type(a)}') #คำการตรวจสอบชนิดของตัวแปรโดยใช้คำสั่ง type "
      ],
      "metadata": {
        "colab": {
          "base_uri": "https://localhost:8080/"
        },
        "id": "Iuk0rQLdcMvH",
        "outputId": "c0b1f3e5-2d8d-4e7b-cda6-da2c8d6a3771"
      },
      "execution_count": null,
      "outputs": [
        {
          "output_type": "stream",
          "name": "stdout",
          "text": [
            "ตัวแปร a ค่าคือ Ch ชนิด <class 'str'>\n"
          ]
        }
      ]
    },
    {
      "cell_type": "markdown",
      "source": [
        "# การแปลงชนิดของชนิดตัวแปร (Variable Casting)"
      ],
      "metadata": {
        "id": "leI01n3Pcwyv"
      }
    },
    {
      "cell_type": "code",
      "source": [
        "print(f' int_a = {int_a}  int_b = {int_b} fl_a =  {fl_a} fl_b =  {fl_b}') #ปริ้นค่าต่าง ๆ ออกมา "
      ],
      "metadata": {
        "colab": {
          "base_uri": "https://localhost:8080/"
        },
        "id": "No2DXQ-ncvYB",
        "outputId": "1e922516-458f-4aa5-e68f-7622fccf0646"
      },
      "execution_count": null,
      "outputs": [
        {
          "output_type": "stream",
          "name": "stdout",
          "text": [
            " int_a = 7  int_b = 2 fl_a =  7.0 fl_b =  2.571\n"
          ]
        }
      ]
    },
    {
      "cell_type": "code",
      "source": [
        "str_a = '6' #string ไม่สามาถนำมาบวกลบกันได้\n",
        "str_b = '-2'  #string ไม่สามาถนำมาบวกลบกันได้"
      ],
      "metadata": {
        "id": "4soKRLsWdVtR"
      },
      "execution_count": null,
      "outputs": []
    },
    {
      "cell_type": "code",
      "source": [
        "str_a2int = int(str_a)\n",
        "print(f' ตัวแปร str_a2int ค่าคือ {str_a2int} ชนิด {type(str_a2int)}') #ปริ้นค่า ในตัวแปร str_2int และค่านั้นเป็นชนิดคือ int "
      ],
      "metadata": {
        "colab": {
          "base_uri": "https://localhost:8080/"
        },
        "id": "kQCfJgBWdyYD",
        "outputId": "ac4a04d2-8c53-43b6-9e06-2ba65d9db0a6"
      },
      "execution_count": null,
      "outputs": [
        {
          "output_type": "stream",
          "name": "stdout",
          "text": [
            " ตัวแปร str_a2int ค่าคือ 6 ชนิด <class 'int'>\n"
          ]
        }
      ]
    },
    {
      "cell_type": "code",
      "source": [
        "str_a2int + int_ax "
      ],
      "metadata": {
        "colab": {
          "base_uri": "https://localhost:8080/",
          "height": 166
        },
        "id": "oOjkWhnPedR5",
        "outputId": "d0847200-150a-43d9-bf24-a77a7d7a94f0"
      },
      "execution_count": null,
      "outputs": [
        {
          "output_type": "error",
          "ename": "NameError",
          "evalue": "ignored",
          "traceback": [
            "\u001b[0;31m---------------------------------------------------------------------------\u001b[0m",
            "\u001b[0;31mNameError\u001b[0m                                 Traceback (most recent call last)",
            "\u001b[0;32m<ipython-input-129-ea4314449a9d>\u001b[0m in \u001b[0;36m<module>\u001b[0;34m()\u001b[0m\n\u001b[0;32m----> 1\u001b[0;31m \u001b[0mstr_a2int\u001b[0m \u001b[0;34m+\u001b[0m \u001b[0mint_ax\u001b[0m\u001b[0;34m\u001b[0m\u001b[0;34m\u001b[0m\u001b[0m\n\u001b[0m",
            "\u001b[0;31mNameError\u001b[0m: name 'int_ax' is not defined"
          ]
        }
      ]
    },
    {
      "cell_type": "code",
      "source": [
        "str_a + int_a #ไม่สามารถเอา int ต่อกับ string ได้"
      ],
      "metadata": {
        "colab": {
          "base_uri": "https://localhost:8080/",
          "height": 166
        },
        "id": "sZtVlixnegqz",
        "outputId": "2b108569-462c-4493-dd23-bcb34a0b3df8"
      },
      "execution_count": null,
      "outputs": [
        {
          "output_type": "error",
          "ename": "TypeError",
          "evalue": "ignored",
          "traceback": [
            "\u001b[0;31m---------------------------------------------------------------------------\u001b[0m",
            "\u001b[0;31mTypeError\u001b[0m                                 Traceback (most recent call last)",
            "\u001b[0;32m<ipython-input-96-84daa50fd1c6>\u001b[0m in \u001b[0;36m<module>\u001b[0;34m()\u001b[0m\n\u001b[0;32m----> 1\u001b[0;31m \u001b[0mstr_a\u001b[0m \u001b[0;34m+\u001b[0m \u001b[0mint_a\u001b[0m \u001b[0;31m#ไม่สามารถเอา int ต่อกับ string ได้\u001b[0m\u001b[0;34m\u001b[0m\u001b[0;34m\u001b[0m\u001b[0m\n\u001b[0m",
            "\u001b[0;31mTypeError\u001b[0m: can only concatenate str (not \"int\") to str"
          ]
        }
      ]
    },
    {
      "cell_type": "code",
      "source": [
        "int_a + str_a #ไม่สามารถเอา string ต่อกับ int ได้ #เวลาอ่านข้อผิดพลาดอ่านบรรทัดสุดท้าย"
      ],
      "metadata": {
        "colab": {
          "base_uri": "https://localhost:8080/",
          "height": 166
        },
        "id": "m4H0ryAfejvS",
        "outputId": "6d63778a-11c9-457f-c867-31876ae462b2"
      },
      "execution_count": null,
      "outputs": [
        {
          "output_type": "error",
          "ename": "TypeError",
          "evalue": "ignored",
          "traceback": [
            "\u001b[0;31m---------------------------------------------------------------------------\u001b[0m",
            "\u001b[0;31mTypeError\u001b[0m                                 Traceback (most recent call last)",
            "\u001b[0;32m<ipython-input-109-e7d8fd4e695e>\u001b[0m in \u001b[0;36m<module>\u001b[0;34m()\u001b[0m\n\u001b[0;32m----> 1\u001b[0;31m \u001b[0mint_a\u001b[0m \u001b[0;34m+\u001b[0m \u001b[0mstr_a\u001b[0m \u001b[0;31m#ไม่สามารถเอา string ต่อกับ int ได้ #เวลาอ่านข้อผิดพลาดอ่านบรรทัดสุดท้าย\u001b[0m\u001b[0;34m\u001b[0m\u001b[0;34m\u001b[0m\u001b[0m\n\u001b[0m",
            "\u001b[0;31mTypeError\u001b[0m: unsupported operand type(s) for +: 'int' and 'str'"
          ]
        }
      ]
    },
    {
      "cell_type": "code",
      "source": [
        "int (fl_b) #เปลี่ยน float เป็น int"
      ],
      "metadata": {
        "colab": {
          "base_uri": "https://localhost:8080/"
        },
        "id": "gEtXTJGUeqz4",
        "outputId": "d2bb7337-d094-4255-de09-a1491fab6ccb"
      },
      "execution_count": null,
      "outputs": [
        {
          "output_type": "execute_result",
          "data": {
            "text/plain": [
              "2"
            ]
          },
          "metadata": {},
          "execution_count": 130
        }
      ]
    },
    {
      "cell_type": "code",
      "source": [
        "float(int_a) #เปลี่ยน int เป็น float"
      ],
      "metadata": {
        "colab": {
          "base_uri": "https://localhost:8080/"
        },
        "id": "3ZXm67CEfMTs",
        "outputId": "6d010d95-2854-44a8-a592-a479cde517d9"
      },
      "execution_count": null,
      "outputs": [
        {
          "output_type": "execute_result",
          "data": {
            "text/plain": [
              "7.0"
            ]
          },
          "metadata": {},
          "execution_count": 131
        }
      ]
    },
    {
      "cell_type": "code",
      "source": [
        "str(fl_b) #เปลี่ยน float เป็น string "
      ],
      "metadata": {
        "colab": {
          "base_uri": "https://localhost:8080/",
          "height": 35
        },
        "id": "mytu2A_Kfnsq",
        "outputId": "566c4014-2d29-4e29-d2dd-cd92a1c668c0"
      },
      "execution_count": null,
      "outputs": [
        {
          "output_type": "execute_result",
          "data": {
            "application/vnd.google.colaboratory.intrinsic+json": {
              "type": "string"
            },
            "text/plain": [
              "'2.571'"
            ]
          },
          "metadata": {},
          "execution_count": 132
        }
      ]
    },
    {
      "cell_type": "markdown",
      "source": [
        "# Operation (เอาตัวแปร 2 ตัวมาทำอะไรกัน)"
      ],
      "metadata": {
        "id": "ZZ-9D9hfgBHo"
      }
    },
    {
      "cell_type": "markdown",
      "source": [
        "### Operators (บวก (+) , ลบ (-) , คูณ (*) , หาร (/) , modulo (%) , and (&) , or (|))"
      ],
      "metadata": {
        "id": "tOCOjltIgjfC"
      }
    },
    {
      "cell_type": "code",
      "source": [
        "fl_a + int_b # float กับ int บวกกันได้"
      ],
      "metadata": {
        "colab": {
          "base_uri": "https://localhost:8080/"
        },
        "id": "teO6MQBrfxVg",
        "outputId": "09f69b3c-962a-4b23-9fdc-934c75e6b240"
      },
      "execution_count": null,
      "outputs": [
        {
          "output_type": "execute_result",
          "data": {
            "text/plain": [
              "9.0"
            ]
          },
          "metadata": {},
          "execution_count": 113
        }
      ]
    },
    {
      "cell_type": "code",
      "source": [
        "9%2 #การหารเอาเศษ"
      ],
      "metadata": {
        "colab": {
          "base_uri": "https://localhost:8080/"
        },
        "id": "vI4EmQbThQ_b",
        "outputId": "aa776fdd-d478-485c-8c96-2e402457af3a"
      },
      "execution_count": null,
      "outputs": [
        {
          "output_type": "execute_result",
          "data": {
            "text/plain": [
              "1"
            ]
          },
          "metadata": {},
          "execution_count": 114
        }
      ]
    },
    {
      "cell_type": "code",
      "source": [
        "100%2 #เอา 2 มา mod เลขคู่ ได้ 0 หรือเอา 2 มา mod เลขคี่จะได้ 1 "
      ],
      "metadata": {
        "colab": {
          "base_uri": "https://localhost:8080/"
        },
        "id": "Scy-1IrzhVfW",
        "outputId": "c76a679f-0b2b-4249-d7d8-59225877d823"
      },
      "execution_count": null,
      "outputs": [
        {
          "output_type": "execute_result",
          "data": {
            "text/plain": [
              "0"
            ]
          },
          "metadata": {},
          "execution_count": 115
        }
      ]
    },
    {
      "cell_type": "code",
      "source": [
        "int_a / int_b # แต่ก่อน int / int จะได้ int เหมือนเดิม"
      ],
      "metadata": {
        "colab": {
          "base_uri": "https://localhost:8080/"
        },
        "id": "PLU94Y2OhZIx",
        "outputId": "b4ac09ef-b0e4-435c-97f9-19e43e457708"
      },
      "execution_count": null,
      "outputs": [
        {
          "output_type": "execute_result",
          "data": {
            "text/plain": [
              "3.5"
            ]
          },
          "metadata": {},
          "execution_count": 116
        }
      ]
    },
    {
      "cell_type": "code",
      "source": [
        "int(int_a / int_b) #หารเอาจำนวนเต็ม"
      ],
      "metadata": {
        "colab": {
          "base_uri": "https://localhost:8080/"
        },
        "id": "y5e5Miqzhosx",
        "outputId": "b2294108-0aa4-4569-8016-a8a5c7b7c3cc"
      },
      "execution_count": null,
      "outputs": [
        {
          "output_type": "execute_result",
          "data": {
            "text/plain": [
              "3"
            ]
          },
          "metadata": {},
          "execution_count": 117
        }
      ]
    },
    {
      "cell_type": "code",
      "source": [
        "False & False # & อ่านว่า และ"
      ],
      "metadata": {
        "colab": {
          "base_uri": "https://localhost:8080/"
        },
        "id": "6XjXwkvgh7eV",
        "outputId": "eec3bfb2-8c8a-42d9-b46a-cf785cd1ea48"
      },
      "execution_count": null,
      "outputs": [
        {
          "output_type": "execute_result",
          "data": {
            "text/plain": [
              "False"
            ]
          },
          "metadata": {},
          "execution_count": 118
        }
      ]
    },
    {
      "cell_type": "code",
      "source": [
        "False & True # & อ่านว่า และ"
      ],
      "metadata": {
        "colab": {
          "base_uri": "https://localhost:8080/"
        },
        "id": "6nCAJeLliCJ5",
        "outputId": "22bbca8b-ce6e-44c2-dcc1-dd0ff513b848"
      },
      "execution_count": null,
      "outputs": [
        {
          "output_type": "execute_result",
          "data": {
            "text/plain": [
              "False"
            ]
          },
          "metadata": {},
          "execution_count": 119
        }
      ]
    },
    {
      "cell_type": "code",
      "source": [
        "False | True # | หรือ เรียกว่า บาร์"
      ],
      "metadata": {
        "colab": {
          "base_uri": "https://localhost:8080/"
        },
        "id": "R1guOrGWiEbR",
        "outputId": "4e9ce36c-ce0b-451c-d971-0d4b393e30c0"
      },
      "execution_count": null,
      "outputs": [
        {
          "output_type": "execute_result",
          "data": {
            "text/plain": [
              "True"
            ]
          },
          "metadata": {},
          "execution_count": 120
        }
      ]
    },
    {
      "cell_type": "markdown",
      "source": [
        "## String Operations "
      ],
      "metadata": {
        "id": "M00wXrBPigel"
      }
    },
    {
      "cell_type": "code",
      "source": [
        ""
      ],
      "metadata": {
        "id": "Vtjhj03nilNF"
      },
      "execution_count": null,
      "outputs": []
    }
  ]
}