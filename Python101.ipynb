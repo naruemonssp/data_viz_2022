{
  "nbformat": 4,
  "nbformat_minor": 0,
  "metadata": {
    "colab": {
      "name": "Python101.ipynb",
      "provenance": [],
      "include_colab_link": true
    },
    "kernelspec": {
      "name": "python3",
      "display_name": "Python 3"
    },
    "language_info": {
      "name": "python"
    }
  },
  "cells": [
    {
      "cell_type": "markdown",
      "metadata": {
        "id": "view-in-github",
        "colab_type": "text"
      },
      "source": [
        "<a href=\"https://colab.research.google.com/github/naruemonssp/data_viz_2022/blob/main/Python101.ipynb\" target=\"_parent\"><img src=\"https://colab.research.google.com/assets/colab-badge.svg\" alt=\"Open In Colab\"/></a>"
      ]
    },
    {
      "cell_type": "markdown",
      "source": [
        "ข้อความในช่อง text เป็นภาษา Markdown (https://www.markdownguide.org/cheat-sheet)"
      ],
      "metadata": {
        "id": "Us9cd1M-JHui"
      }
    },
    {
      "cell_type": "markdown",
      "source": [
        "# การจัดการข้อความในการแสดงผล\n",
        "## String\n",
        "### test heading 3"
      ],
      "metadata": {
        "id": "_S2WkBGTJj41"
      }
    },
    {
      "cell_type": "markdown",
      "source": [
        "`print(ข้อความ)`"
      ],
      "metadata": {
        "id": "CMQ3lysmKnaQ"
      }
    },
    {
      "cell_type": "code",
      "execution_count": 1,
      "metadata": {
        "colab": {
          "base_uri": "https://localhost:8080/",
          "height": 35
        },
        "id": "Fl0ya1LuI_58",
        "outputId": "e4b03c08-22e1-40e0-d244-6d49896cc228"
      },
      "outputs": [
        {
          "output_type": "execute_result",
          "data": {
            "application/vnd.google.colaboratory.intrinsic+json": {
              "type": "string"
            },
            "text/plain": [
              "'สถิติ'"
            ]
          },
          "metadata": {},
          "execution_count": 1
        }
      ],
      "source": [
        "'สถิติ' # ' quote เหมือนกันกับอันข้างล่างไม่ได้ต่างกันเวลาแสดงผลออกมา"
      ]
    },
    {
      "cell_type": "code",
      "source": [
        "\"สถิติ\" # \" quote"
      ],
      "metadata": {
        "colab": {
          "base_uri": "https://localhost:8080/",
          "height": 35
        },
        "id": "7RhJoX5yLQEJ",
        "outputId": "0e759bea-b8fd-404a-b433-92864ae6c0ca"
      },
      "execution_count": 2,
      "outputs": [
        {
          "output_type": "execute_result",
          "data": {
            "application/vnd.google.colaboratory.intrinsic+json": {
              "type": "string"
            },
            "text/plain": [
              "'สถิติ'"
            ]
          },
          "metadata": {},
          "execution_count": 2
        }
      ]
    },
    {
      "cell_type": "code",
      "source": [
        "1+3 # 1+3 = 4 "
      ],
      "metadata": {
        "colab": {
          "base_uri": "https://localhost:8080/"
        },
        "id": "QP9Jnp-kL2SF",
        "outputId": "98950efd-5fea-43ac-bbc4-9ce06a420abf"
      },
      "execution_count": 3,
      "outputs": [
        {
          "output_type": "execute_result",
          "data": {
            "text/plain": [
              "4"
            ]
          },
          "metadata": {},
          "execution_count": 3
        }
      ]
    },
    {
      "cell_type": "code",
      "source": [
        "'1' + '3' #ข้อความบวกกันเวลาแสดงผลตัวเลขจะมาต่อกันเลย"
      ],
      "metadata": {
        "colab": {
          "base_uri": "https://localhost:8080/",
          "height": 35
        },
        "id": "rVyqVAxKL4Kk",
        "outputId": "812a8233-ccca-4d81-9614-0b0eb27917f9"
      },
      "execution_count": 4,
      "outputs": [
        {
          "output_type": "execute_result",
          "data": {
            "application/vnd.google.colaboratory.intrinsic+json": {
              "type": "string"
            },
            "text/plain": [
              "'13'"
            ]
          },
          "metadata": {},
          "execution_count": 4
        }
      ]
    },
    {
      "cell_type": "code",
      "source": [
        "1-3 #สามารถลบกันได้"
      ],
      "metadata": {
        "colab": {
          "base_uri": "https://localhost:8080/"
        },
        "id": "pHTJUmZrMFV4",
        "outputId": "f2845575-fbdc-4764-fc10-d75470140d0f"
      },
      "execution_count": 5,
      "outputs": [
        {
          "output_type": "execute_result",
          "data": {
            "text/plain": [
              "-2"
            ]
          },
          "metadata": {},
          "execution_count": 5
        }
      ]
    },
    {
      "cell_type": "code",
      "source": [
        "'1'-'3' #ข้อความมาลบกันไม่ได้"
      ],
      "metadata": {
        "colab": {
          "base_uri": "https://localhost:8080/",
          "height": 163
        },
        "id": "dLVL1oZ7MHjI",
        "outputId": "1b4c8d20-b35c-43f8-9c8d-68ecdc4aab66"
      },
      "execution_count": 6,
      "outputs": [
        {
          "output_type": "error",
          "ename": "TypeError",
          "evalue": "ignored",
          "traceback": [
            "\u001b[0;31m---------------------------------------------------------------------------\u001b[0m",
            "\u001b[0;31mTypeError\u001b[0m                                 Traceback (most recent call last)",
            "\u001b[0;32m<ipython-input-6-0671b3d45cb2>\u001b[0m in \u001b[0;36m<module>\u001b[0;34m()\u001b[0m\n\u001b[0;32m----> 1\u001b[0;31m \u001b[0;34m'1'\u001b[0m\u001b[0;34m-\u001b[0m\u001b[0;34m'3'\u001b[0m \u001b[0;31m#ข้อความมาลบกันไม่ได้\u001b[0m\u001b[0;34m\u001b[0m\u001b[0;34m\u001b[0m\u001b[0m\n\u001b[0m",
            "\u001b[0;31mTypeError\u001b[0m: unsupported operand type(s) for -: 'str' and 'str'"
          ]
        }
      ]
    },
    {
      "cell_type": "markdown",
      "source": [
        "## Print (ข้อความ)"
      ],
      "metadata": {
        "id": "k8zIAINGMYQs"
      }
    },
    {
      "cell_type": "code",
      "source": [
        "print('ข้อความที่อยากให้ print')"
      ],
      "metadata": {
        "colab": {
          "base_uri": "https://localhost:8080/"
        },
        "id": "wn4jyT9ZNDaP",
        "outputId": "c440a8d9-d1bd-4d75-c609-e7259fbbf1b1"
      },
      "execution_count": 7,
      "outputs": [
        {
          "output_type": "stream",
          "name": "stdout",
          "text": [
            "ข้อความที่อยากให้ print\n"
          ]
        }
      ]
    },
    {
      "cell_type": "markdown",
      "source": [
        "# ตัวแปร (Variables)"
      ],
      "metadata": {
        "id": "o9xF8XTGKCUK"
      }
    },
    {
      "cell_type": "code",
      "source": [
        "vartest1 = 3 #ถ้าไม่แสดงค่าแสดงว่า 3 เก็บไว้ในตัวแปร vartest1"
      ],
      "metadata": {
        "id": "qCKESZytKGzo"
      },
      "execution_count": 8,
      "outputs": []
    },
    {
      "cell_type": "code",
      "source": [
        "vartest1 #แสดงค่าออกมา"
      ],
      "metadata": {
        "colab": {
          "base_uri": "https://localhost:8080/"
        },
        "id": "Jw7J0tEHN7J_",
        "outputId": "9e904864-7b0a-4fc8-9da0-446954e74777"
      },
      "execution_count": 9,
      "outputs": [
        {
          "output_type": "execute_result",
          "data": {
            "text/plain": [
              "3"
            ]
          },
          "metadata": {},
          "execution_count": 9
        }
      ]
    },
    {
      "cell_type": "code",
      "source": [
        "print(vartest1) #แสดงค่าออกมาเหมือนกัน"
      ],
      "metadata": {
        "colab": {
          "base_uri": "https://localhost:8080/"
        },
        "id": "rY_WhvPVOCCT",
        "outputId": "ef3b9946-685c-47cd-82d8-b37313c11679"
      },
      "execution_count": 10,
      "outputs": [
        {
          "output_type": "stream",
          "name": "stdout",
          "text": [
            "3\n"
          ]
        }
      ]
    },
    {
      "cell_type": "code",
      "source": [
        "vartest2 = '1'+'3' #เก็บตัวแปร String ไว้ในตัวแปรชื่อว่า vartest2"
      ],
      "metadata": {
        "id": "6KeieRjFOHUF"
      },
      "execution_count": 11,
      "outputs": []
    },
    {
      "cell_type": "code",
      "source": [
        "vartest2 #รันค่าออก จะเห็นค่า ถ้าเป็น String จะเอาตัวหนังสือมาต่อกัน"
      ],
      "metadata": {
        "colab": {
          "base_uri": "https://localhost:8080/",
          "height": 35
        },
        "id": "QVy4L9UOOLHa",
        "outputId": "94b25c57-a38e-430c-8f04-ccbe8e53f8b0"
      },
      "execution_count": 12,
      "outputs": [
        {
          "output_type": "execute_result",
          "data": {
            "application/vnd.google.colaboratory.intrinsic+json": {
              "type": "string"
            },
            "text/plain": [
              "'13'"
            ]
          },
          "metadata": {},
          "execution_count": 12
        }
      ]
    },
    {
      "cell_type": "code",
      "source": [
        "print(vartest2)"
      ],
      "metadata": {
        "colab": {
          "base_uri": "https://localhost:8080/"
        },
        "id": "PEOD1vH9OP1C",
        "outputId": "7a34b07f-fe11-441c-c493-45c3fd69fffe"
      },
      "execution_count": 13,
      "outputs": [
        {
          "output_type": "stream",
          "name": "stdout",
          "text": [
            "13\n"
          ]
        }
      ]
    },
    {
      "cell_type": "markdown",
      "source": [
        "## ข้อกำหนดในการตั้งชื่อตัวแปร\n",
        "1. ตั้งให้สื่อความหมาย\n",
        "2. ต้องเป็นภาษาอังกฤษ\n",
        "3. ใช้ตัวเลขผสมกับตัวหนังสือได้ แต่ห้ามขึ้นต้นด้วยตัวเลข\n",
        "4. ห้ามมีเว้นวรรคในชื่อตัวแปร\n",
        "5. ตัวใหญ่ ตัวเล็ก ค่าไม่เท่ากัน"
      ],
      "metadata": {
        "id": "MqqHtV8mOzS3"
      }
    },
    {
      "cell_type": "code",
      "source": [
        "1a = 7  #แบบนี้ไม่ได้เพราะตัวแปรขึ้นต้นด้วยตัวเลข"
      ],
      "metadata": {
        "colab": {
          "base_uri": "https://localhost:8080/",
          "height": 129
        },
        "id": "R8Cwppl4PMOm",
        "outputId": "a88a4c72-202d-4acb-ddd2-37b9e9d9b1c1"
      },
      "execution_count": 14,
      "outputs": [
        {
          "output_type": "error",
          "ename": "SyntaxError",
          "evalue": "ignored",
          "traceback": [
            "\u001b[0;36m  File \u001b[0;32m\"<ipython-input-14-54dbbbb36370>\"\u001b[0;36m, line \u001b[0;32m1\u001b[0m\n\u001b[0;31m    1a = 7  #แบบนี้ไม่ได้เพราะตัวแปรขึ้นต้นด้วยตัวเลข\u001b[0m\n\u001b[0m     ^\u001b[0m\n\u001b[0;31mSyntaxError\u001b[0m\u001b[0;31m:\u001b[0m invalid syntax\n"
          ]
        }
      ]
    },
    {
      "cell_type": "code",
      "source": [
        "variable a = 1 #แบบนี้ไม่ได้เพราะมีเว้นวรรค"
      ],
      "metadata": {
        "colab": {
          "base_uri": "https://localhost:8080/",
          "height": 129
        },
        "id": "7xy6AlzKOTah",
        "outputId": "f0f132c2-51e6-4cdb-f1a3-52e935c81150"
      },
      "execution_count": 15,
      "outputs": [
        {
          "output_type": "error",
          "ename": "SyntaxError",
          "evalue": "ignored",
          "traceback": [
            "\u001b[0;36m  File \u001b[0;32m\"<ipython-input-15-c3cafd32fc5d>\"\u001b[0;36m, line \u001b[0;32m1\u001b[0m\n\u001b[0;31m    variable a = 1 #แบบนี้ไม่ได้เพราะมีเว้นวรรค\u001b[0m\n\u001b[0m             ^\u001b[0m\n\u001b[0;31mSyntaxError\u001b[0m\u001b[0;31m:\u001b[0m invalid syntax\n"
          ]
        }
      ]
    },
    {
      "cell_type": "markdown",
      "source": [
        "## Advanced Prining\n",
        "เราสามารถ print ตัวแปรร่วมกับข้อความได้ \n",
        "``` python\n",
        "print (f'ข้อความ{code}')\n",
        "```"
      ],
      "metadata": {
        "id": "enEbzytxQAxT"
      }
    },
    {
      "cell_type": "code",
      "source": [
        "print(f'หนึ่ง บวก สอง (1+2) เท่ากับ สาม ({1+2})') # { } เรียกว่า Curly Backets "
      ],
      "metadata": {
        "colab": {
          "base_uri": "https://localhost:8080/"
        },
        "id": "OGvL-syrPqlv",
        "outputId": "b55efa50-2279-4dbf-8c57-c767a1656935"
      },
      "execution_count": 16,
      "outputs": [
        {
          "output_type": "stream",
          "name": "stdout",
          "text": [
            "หนึ่ง บวก สอง (1+2) เท่ากับ สาม (3)\n"
          ]
        }
      ]
    },
    {
      "cell_type": "code",
      "source": [
        "a = 1 \n",
        "b= 2 \n",
        "print(f'หนึ่ง บวก สอง ({a}+{b}) เท่ากับ สาม ({a+b})') #ลองปริ้นค่า a และ b ออกมา โดนใช้คำสั่ง print "
      ],
      "metadata": {
        "colab": {
          "base_uri": "https://localhost:8080/"
        },
        "id": "VWiUvpPVRU8d",
        "outputId": "6ef6e479-8d9d-424a-a682-3dc0935f9e45"
      },
      "execution_count": 17,
      "outputs": [
        {
          "output_type": "stream",
          "name": "stdout",
          "text": [
            "หนึ่ง บวก สอง (1+2) เท่ากับ สาม (3)\n"
          ]
        }
      ]
    },
    {
      "cell_type": "code",
      "source": [
        "a = 5 #ตัวแปร a = 5\n",
        "b= 2 #ตัวแปร b = 2 "
      ],
      "metadata": {
        "id": "48tdTXoDRlcr"
      },
      "execution_count": 18,
      "outputs": []
    },
    {
      "cell_type": "code",
      "source": [
        "print(f'{a}+{b} =  {a+b}')  #ลองปริ้นค่า a และ b ออกมา โดนใช้คำสั่ง print "
      ],
      "metadata": {
        "colab": {
          "base_uri": "https://localhost:8080/"
        },
        "id": "WtoFe_pXRs9T",
        "outputId": "f0ad4787-42ff-4672-d862-301c278d8082"
      },
      "execution_count": 19,
      "outputs": [
        {
          "output_type": "stream",
          "name": "stdout",
          "text": [
            "5+2 =  7\n"
          ]
        }
      ]
    },
    {
      "cell_type": "code",
      "source": [
        "a = -1 #ตัวแปร a = -1 \n",
        "b = 11 #ตัวแปร b = 11"
      ],
      "metadata": {
        "id": "L-2nHdKER1jD"
      },
      "execution_count": 20,
      "outputs": []
    },
    {
      "cell_type": "markdown",
      "source": [
        "## ชนิดของตัวแปร"
      ],
      "metadata": {
        "id": "KMSVH5uTU_-9"
      }
    },
    {
      "cell_type": "markdown",
      "source": [
        "### char (acter) (ตัวอักษร)"
      ],
      "metadata": {
        "id": "ji-f_zhqVDK6"
      }
    },
    {
      "cell_type": "code",
      "source": [
        "a = 'Ch' #มีมากกว่า 1 ตัวเป็น String "
      ],
      "metadata": {
        "id": "RxmQk7JjTiut"
      },
      "execution_count": 21,
      "outputs": []
    },
    {
      "cell_type": "code",
      "source": [
        "b = 'aracter' #ตัวแปร b เก็บค่า คำว่า aracter"
      ],
      "metadata": {
        "id": "UHWAx022VNMx"
      },
      "execution_count": 22,
      "outputs": []
    },
    {
      "cell_type": "code",
      "source": [
        "print(f'a={a} b={b} , then {a}+{b} = {a+b}') #ปริ้นค่า a และ b ออกมา โดนใช้คำสั่ง print และให้ข้อความต่อกัน โดนใช้ + ข้อความจะต่อกันถ้าเป็นชนิด String "
      ],
      "metadata": {
        "colab": {
          "base_uri": "https://localhost:8080/"
        },
        "id": "iVvzAdN7VQ5E",
        "outputId": "70d589c1-3680-414d-a589-843bd1cec25f"
      },
      "execution_count": 23,
      "outputs": [
        {
          "output_type": "stream",
          "name": "stdout",
          "text": [
            "a=Ch b=aracter , then Ch+aracter = Character\n"
          ]
        }
      ]
    },
    {
      "cell_type": "code",
      "source": [
        "A = 'c' #ตัวเดียวเป็น Charecter\n",
        "B = 'a' #ตัวเดียวเป็น Charecter"
      ],
      "metadata": {
        "id": "OOM35OxaVbUN"
      },
      "execution_count": 24,
      "outputs": []
    },
    {
      "cell_type": "code",
      "source": [
        "print(A+B) #ปริ้นค่า a และ b ออกมา โดนใช้คำสั่ง print"
      ],
      "metadata": {
        "colab": {
          "base_uri": "https://localhost:8080/"
        },
        "id": "453VuLNrVfIk",
        "outputId": "d6b51d2b-0d27-4cd9-b2b4-ba88033e2d47"
      },
      "execution_count": 25,
      "outputs": [
        {
          "output_type": "stream",
          "name": "stdout",
          "text": [
            "ca\n"
          ]
        }
      ]
    },
    {
      "cell_type": "markdown",
      "source": [
        "### Int (eger) (จำนวนเต็ม)"
      ],
      "metadata": {
        "id": "JsagqoWWWeX1"
      }
    },
    {
      "cell_type": "code",
      "source": [
        "int_a = 7 #จำนวนเต็ม \n",
        "int_b = 2 #จำนวนเต็ม "
      ],
      "metadata": {
        "id": "OrbEd-VhViBN"
      },
      "execution_count": 26,
      "outputs": []
    },
    {
      "cell_type": "code",
      "source": [
        "int_c = int_a + int_b #int_c คือ เอา int_a + int_b บวกกัน จะได้ 7+2 = 9 นั่นเอง\n",
        "print(int_c)"
      ],
      "metadata": {
        "colab": {
          "base_uri": "https://localhost:8080/"
        },
        "id": "7Fc1h-yOWpMG",
        "outputId": "f0d38afb-829f-43d4-bacb-7a0b024c5a20"
      },
      "execution_count": 27,
      "outputs": [
        {
          "output_type": "stream",
          "name": "stdout",
          "text": [
            "9\n"
          ]
        }
      ]
    },
    {
      "cell_type": "markdown",
      "source": [
        "### Float (จำนวนจริง ทศนิยม)"
      ],
      "metadata": {
        "id": "49D5h0t3XNL9"
      }
    },
    {
      "cell_type": "code",
      "source": [
        "fl_a = 7. #ถ้าอยากให้เป็น float ให้เติมจุดด้านหลัง\n",
        "fl_b = 2.571"
      ],
      "metadata": {
        "id": "K0oRL-eSWwZ_"
      },
      "execution_count": 28,
      "outputs": []
    },
    {
      "cell_type": "code",
      "source": [
        "fl_a #รันค่าตัวแปร fl_a จะเห็นว่าเป็นทศนิยม "
      ],
      "metadata": {
        "colab": {
          "base_uri": "https://localhost:8080/"
        },
        "id": "q5QVA55qXt2Y",
        "outputId": "a860c28c-64eb-4369-868e-35225daa83b6"
      },
      "execution_count": 29,
      "outputs": [
        {
          "output_type": "execute_result",
          "data": {
            "text/plain": [
              "7.0"
            ]
          },
          "metadata": {},
          "execution_count": 29
        }
      ]
    },
    {
      "cell_type": "code",
      "source": [
        "fl_b #รันค่าตัวแปร fl_b จะเห็นว่าเป็นทศนิยม "
      ],
      "metadata": {
        "colab": {
          "base_uri": "https://localhost:8080/"
        },
        "id": "juGiQH4tX03T",
        "outputId": "f8f60f4d-e09b-4609-bedd-8515b082ccdd"
      },
      "execution_count": 30,
      "outputs": [
        {
          "output_type": "execute_result",
          "data": {
            "text/plain": [
              "2.571"
            ]
          },
          "metadata": {},
          "execution_count": 30
        }
      ]
    },
    {
      "cell_type": "code",
      "source": [
        "print(fl_a) #ปริ้นตัวแปร fl_a จะเห็นว่าเป็นทศนิยม "
      ],
      "metadata": {
        "colab": {
          "base_uri": "https://localhost:8080/"
        },
        "id": "ez9zY6HVYZWO",
        "outputId": "4138be3c-c610-4d03-b4e8-5e08672d45fa"
      },
      "execution_count": 31,
      "outputs": [
        {
          "output_type": "stream",
          "name": "stdout",
          "text": [
            "7.0\n"
          ]
        }
      ]
    },
    {
      "cell_type": "code",
      "source": [
        "print(fl_b) #ปริ้นตัวแปร fl_b จะเห็นว่าเป็นทศนิยม "
      ],
      "metadata": {
        "colab": {
          "base_uri": "https://localhost:8080/"
        },
        "id": "vZNu0614Yhig",
        "outputId": "aad9a262-ebe3-451d-e7d0-ddb360d379c1"
      },
      "execution_count": 32,
      "outputs": [
        {
          "output_type": "stream",
          "name": "stdout",
          "text": [
            "2.571\n"
          ]
        }
      ]
    },
    {
      "cell_type": "code",
      "source": [
        "print(fl_a + fl_b) #ปริ้นตัวแปร fl_a  + กับ lf_b จะเห็นว่าคำตอบออกมาเป็นทศนิยม "
      ],
      "metadata": {
        "colab": {
          "base_uri": "https://localhost:8080/"
        },
        "id": "o5BBOZQIYkpQ",
        "outputId": "72a1ecca-9534-4c59-a3b9-0026092dbed5"
      },
      "execution_count": 33,
      "outputs": [
        {
          "output_type": "stream",
          "name": "stdout",
          "text": [
            "9.571\n"
          ]
        }
      ]
    },
    {
      "cell_type": "markdown",
      "source": [
        "### Boolean (ตัวแปรที่มีค่า True หรือ False) ตรรกศาสตร์"
      ],
      "metadata": {
        "id": "WUFILMF9ZSsn"
      }
    },
    {
      "cell_type": "code",
      "source": [
        "b_T = True #สังเกตต้องเป็นหนังสือสีฟ้าเพราะเป็นคำสงวนไว้"
      ],
      "metadata": {
        "id": "_GP7LsasZq4o"
      },
      "execution_count": 34,
      "outputs": []
    },
    {
      "cell_type": "code",
      "source": [
        "b_F = False #สังเกตต้องเป็นหนังสือสีฟ้าเพราะเป็นคำสงวนไว้"
      ],
      "metadata": {
        "id": "2tERDTxTZwzc"
      },
      "execution_count": 35,
      "outputs": []
    },
    {
      "cell_type": "markdown",
      "source": [
        "### Complex (จำนวนเชิงซ้อน)"
      ],
      "metadata": {
        "id": "W9LPShkebsQf"
      }
    },
    {
      "cell_type": "code",
      "source": [
        "x = 1 +2j #จำนวนเชิงซ้อน "
      ],
      "metadata": {
        "id": "A1dBcR5Mb1QL"
      },
      "execution_count": 36,
      "outputs": []
    },
    {
      "cell_type": "markdown",
      "source": [
        "### เราสามารถตรวจสอบชนิดของตัวแปรด้วยคำสั่ง type()"
      ],
      "metadata": {
        "id": "_ACcW83Qb4u_"
      }
    },
    {
      "cell_type": "code",
      "source": [
        "print(f'ตัวแปร x ค่าคือ {x} ชนิด {type(x)}') #คำการตรวจสอบชนิดของตัวแปรโดยใช้คำสั่ง type "
      ],
      "metadata": {
        "colab": {
          "base_uri": "https://localhost:8080/"
        },
        "id": "P_VGubbCb_HA",
        "outputId": "ddf5e2b9-cd06-475f-dafe-d369e4fe3111"
      },
      "execution_count": 37,
      "outputs": [
        {
          "output_type": "stream",
          "name": "stdout",
          "text": [
            "ตัวแปร x ค่าคือ (1+2j) ชนิด <class 'complex'>\n"
          ]
        }
      ]
    },
    {
      "cell_type": "code",
      "source": [
        "print(f'ตัวแปร A ค่าคือ {A} ชนิด {type(A)}') #คำการตรวจสอบชนิดของตัวแปรโดยใช้คำสั่ง type "
      ],
      "metadata": {
        "colab": {
          "base_uri": "https://localhost:8080/"
        },
        "id": "OIRhDMnVclLz",
        "outputId": "43cc3c53-f266-4f41-9ba5-708120e5f82b"
      },
      "execution_count": 38,
      "outputs": [
        {
          "output_type": "stream",
          "name": "stdout",
          "text": [
            "ตัวแปร A ค่าคือ c ชนิด <class 'str'>\n"
          ]
        }
      ]
    },
    {
      "cell_type": "code",
      "source": [
        "print(f'ตัวแปร a ค่าคือ {a} ชนิด {type(a)}') #คำการตรวจสอบชนิดของตัวแปรโดยใช้คำสั่ง type "
      ],
      "metadata": {
        "colab": {
          "base_uri": "https://localhost:8080/"
        },
        "id": "Iuk0rQLdcMvH",
        "outputId": "cebcd2b6-ccae-4743-a480-7c27b655a34a"
      },
      "execution_count": 39,
      "outputs": [
        {
          "output_type": "stream",
          "name": "stdout",
          "text": [
            "ตัวแปร a ค่าคือ Ch ชนิด <class 'str'>\n"
          ]
        }
      ]
    },
    {
      "cell_type": "markdown",
      "source": [
        "# การแปลงชนิดของชนิดตัวแปร (Variable Casting)"
      ],
      "metadata": {
        "id": "leI01n3Pcwyv"
      }
    },
    {
      "cell_type": "code",
      "source": [
        "print(f' int_a = {int_a}  int_b = {int_b} fl_a =  {fl_a} fl_b =  {fl_b}') #ปริ้นค่าต่าง ๆ ออกมา "
      ],
      "metadata": {
        "colab": {
          "base_uri": "https://localhost:8080/"
        },
        "id": "No2DXQ-ncvYB",
        "outputId": "51a9123b-6b8b-40a9-c938-8e6117b7cb9d"
      },
      "execution_count": 40,
      "outputs": [
        {
          "output_type": "stream",
          "name": "stdout",
          "text": [
            " int_a = 7  int_b = 2 fl_a =  7.0 fl_b =  2.571\n"
          ]
        }
      ]
    },
    {
      "cell_type": "code",
      "source": [
        "str_a = '6' #string ไม่สามาถนำมาบวกลบกันได้\n",
        "str_b = '-2'  #string ไม่สามาถนำมาบวกลบกันได้"
      ],
      "metadata": {
        "id": "4soKRLsWdVtR"
      },
      "execution_count": 41,
      "outputs": []
    },
    {
      "cell_type": "code",
      "source": [
        "str_a2int = int(str_a)\n",
        "print(f' ตัวแปร str_a2int ค่าคือ {str_a2int} ชนิด {type(str_a2int)}') #ปริ้นค่า ในตัวแปร str_2int และค่านั้นเป็นชนิดคือ int "
      ],
      "metadata": {
        "colab": {
          "base_uri": "https://localhost:8080/"
        },
        "id": "kQCfJgBWdyYD",
        "outputId": "0fcad54a-199d-4488-c8c3-90243680d57e"
      },
      "execution_count": 42,
      "outputs": [
        {
          "output_type": "stream",
          "name": "stdout",
          "text": [
            " ตัวแปร str_a2int ค่าคือ 6 ชนิด <class 'int'>\n"
          ]
        }
      ]
    },
    {
      "cell_type": "code",
      "source": [
        "str_a2int + int_ax "
      ],
      "metadata": {
        "colab": {
          "base_uri": "https://localhost:8080/",
          "height": 163
        },
        "id": "oOjkWhnPedR5",
        "outputId": "b28ea29c-7f20-48a5-c741-410cf77e4316"
      },
      "execution_count": 43,
      "outputs": [
        {
          "output_type": "error",
          "ename": "NameError",
          "evalue": "ignored",
          "traceback": [
            "\u001b[0;31m---------------------------------------------------------------------------\u001b[0m",
            "\u001b[0;31mNameError\u001b[0m                                 Traceback (most recent call last)",
            "\u001b[0;32m<ipython-input-43-ea4314449a9d>\u001b[0m in \u001b[0;36m<module>\u001b[0;34m()\u001b[0m\n\u001b[0;32m----> 1\u001b[0;31m \u001b[0mstr_a2int\u001b[0m \u001b[0;34m+\u001b[0m \u001b[0mint_ax\u001b[0m\u001b[0;34m\u001b[0m\u001b[0;34m\u001b[0m\u001b[0m\n\u001b[0m",
            "\u001b[0;31mNameError\u001b[0m: name 'int_ax' is not defined"
          ]
        }
      ]
    },
    {
      "cell_type": "code",
      "source": [
        "str_a + int_a #ไม่สามารถเอา int ต่อกับ string ได้"
      ],
      "metadata": {
        "colab": {
          "base_uri": "https://localhost:8080/",
          "height": 163
        },
        "id": "sZtVlixnegqz",
        "outputId": "ef9fe02a-f200-4f9a-a42d-14099edb2d8b"
      },
      "execution_count": 44,
      "outputs": [
        {
          "output_type": "error",
          "ename": "TypeError",
          "evalue": "ignored",
          "traceback": [
            "\u001b[0;31m---------------------------------------------------------------------------\u001b[0m",
            "\u001b[0;31mTypeError\u001b[0m                                 Traceback (most recent call last)",
            "\u001b[0;32m<ipython-input-44-84daa50fd1c6>\u001b[0m in \u001b[0;36m<module>\u001b[0;34m()\u001b[0m\n\u001b[0;32m----> 1\u001b[0;31m \u001b[0mstr_a\u001b[0m \u001b[0;34m+\u001b[0m \u001b[0mint_a\u001b[0m \u001b[0;31m#ไม่สามารถเอา int ต่อกับ string ได้\u001b[0m\u001b[0;34m\u001b[0m\u001b[0;34m\u001b[0m\u001b[0m\n\u001b[0m",
            "\u001b[0;31mTypeError\u001b[0m: can only concatenate str (not \"int\") to str"
          ]
        }
      ]
    },
    {
      "cell_type": "code",
      "source": [
        "int_a + str_a #ไม่สามารถเอา string ต่อกับ int ได้ #เวลาอ่านข้อผิดพลาดอ่านบรรทัดสุดท้าย"
      ],
      "metadata": {
        "colab": {
          "base_uri": "https://localhost:8080/",
          "height": 163
        },
        "id": "m4H0ryAfejvS",
        "outputId": "dad2447b-89bd-4b7d-d148-b72f5ac82a9f"
      },
      "execution_count": 45,
      "outputs": [
        {
          "output_type": "error",
          "ename": "TypeError",
          "evalue": "ignored",
          "traceback": [
            "\u001b[0;31m---------------------------------------------------------------------------\u001b[0m",
            "\u001b[0;31mTypeError\u001b[0m                                 Traceback (most recent call last)",
            "\u001b[0;32m<ipython-input-45-e7d8fd4e695e>\u001b[0m in \u001b[0;36m<module>\u001b[0;34m()\u001b[0m\n\u001b[0;32m----> 1\u001b[0;31m \u001b[0mint_a\u001b[0m \u001b[0;34m+\u001b[0m \u001b[0mstr_a\u001b[0m \u001b[0;31m#ไม่สามารถเอา string ต่อกับ int ได้ #เวลาอ่านข้อผิดพลาดอ่านบรรทัดสุดท้าย\u001b[0m\u001b[0;34m\u001b[0m\u001b[0;34m\u001b[0m\u001b[0m\n\u001b[0m",
            "\u001b[0;31mTypeError\u001b[0m: unsupported operand type(s) for +: 'int' and 'str'"
          ]
        }
      ]
    },
    {
      "cell_type": "code",
      "source": [
        "int (fl_b) #เปลี่ยน float เป็น int"
      ],
      "metadata": {
        "colab": {
          "base_uri": "https://localhost:8080/"
        },
        "id": "gEtXTJGUeqz4",
        "outputId": "b542ff85-f9de-4711-d551-673ac6e4a35c"
      },
      "execution_count": 46,
      "outputs": [
        {
          "output_type": "execute_result",
          "data": {
            "text/plain": [
              "2"
            ]
          },
          "metadata": {},
          "execution_count": 46
        }
      ]
    },
    {
      "cell_type": "code",
      "source": [
        "float(int_a) #เปลี่ยน int เป็น float"
      ],
      "metadata": {
        "colab": {
          "base_uri": "https://localhost:8080/"
        },
        "id": "3ZXm67CEfMTs",
        "outputId": "0bc882e8-daec-45a8-dd95-c87efa39e944"
      },
      "execution_count": 47,
      "outputs": [
        {
          "output_type": "execute_result",
          "data": {
            "text/plain": [
              "7.0"
            ]
          },
          "metadata": {},
          "execution_count": 47
        }
      ]
    },
    {
      "cell_type": "code",
      "source": [
        "str(fl_b) #เปลี่ยน float เป็น string "
      ],
      "metadata": {
        "colab": {
          "base_uri": "https://localhost:8080/",
          "height": 35
        },
        "id": "mytu2A_Kfnsq",
        "outputId": "bc4a8a77-eb8e-4b29-8134-5886538c839c"
      },
      "execution_count": 48,
      "outputs": [
        {
          "output_type": "execute_result",
          "data": {
            "application/vnd.google.colaboratory.intrinsic+json": {
              "type": "string"
            },
            "text/plain": [
              "'2.571'"
            ]
          },
          "metadata": {},
          "execution_count": 48
        }
      ]
    },
    {
      "cell_type": "markdown",
      "source": [
        "# Operation (เอาตัวแปร 2 ตัวมาทำอะไรกัน)"
      ],
      "metadata": {
        "id": "ZZ-9D9hfgBHo"
      }
    },
    {
      "cell_type": "markdown",
      "source": [
        "### Operators (บวก (+) , ลบ (-) , คูณ (*) , หาร (/) , modulo (%) , and (&) , or (|))"
      ],
      "metadata": {
        "id": "tOCOjltIgjfC"
      }
    },
    {
      "cell_type": "code",
      "source": [
        "fl_a + int_b # float กับ int บวกกันได้"
      ],
      "metadata": {
        "colab": {
          "base_uri": "https://localhost:8080/"
        },
        "id": "teO6MQBrfxVg",
        "outputId": "74cf128b-3c75-4bbb-a2d4-eede30466f67"
      },
      "execution_count": 49,
      "outputs": [
        {
          "output_type": "execute_result",
          "data": {
            "text/plain": [
              "9.0"
            ]
          },
          "metadata": {},
          "execution_count": 49
        }
      ]
    },
    {
      "cell_type": "code",
      "source": [
        "9%2 #การหารเอาเศษ"
      ],
      "metadata": {
        "colab": {
          "base_uri": "https://localhost:8080/"
        },
        "id": "vI4EmQbThQ_b",
        "outputId": "22ba93a8-5119-4424-8e29-275f26c60b1b"
      },
      "execution_count": 50,
      "outputs": [
        {
          "output_type": "execute_result",
          "data": {
            "text/plain": [
              "1"
            ]
          },
          "metadata": {},
          "execution_count": 50
        }
      ]
    },
    {
      "cell_type": "code",
      "source": [
        "100%2 #เอา 2 มา mod เลขคู่ ได้ 0 หรือเอา 2 มา mod เลขคี่จะได้ 1 "
      ],
      "metadata": {
        "colab": {
          "base_uri": "https://localhost:8080/"
        },
        "id": "Scy-1IrzhVfW",
        "outputId": "bee8314b-0979-4f3c-d803-1972533527fc"
      },
      "execution_count": 51,
      "outputs": [
        {
          "output_type": "execute_result",
          "data": {
            "text/plain": [
              "0"
            ]
          },
          "metadata": {},
          "execution_count": 51
        }
      ]
    },
    {
      "cell_type": "code",
      "source": [
        "int_a / int_b # แต่ก่อน int / int จะได้ int เหมือนเดิม"
      ],
      "metadata": {
        "colab": {
          "base_uri": "https://localhost:8080/"
        },
        "id": "PLU94Y2OhZIx",
        "outputId": "ba337615-0ad3-468f-b26b-6b5dfcc6a7d1"
      },
      "execution_count": 52,
      "outputs": [
        {
          "output_type": "execute_result",
          "data": {
            "text/plain": [
              "3.5"
            ]
          },
          "metadata": {},
          "execution_count": 52
        }
      ]
    },
    {
      "cell_type": "code",
      "source": [
        "int(int_a / int_b) #หารเอาจำนวนเต็ม"
      ],
      "metadata": {
        "colab": {
          "base_uri": "https://localhost:8080/"
        },
        "id": "y5e5Miqzhosx",
        "outputId": "9c51ea92-758f-45a7-c05d-1a72194ea212"
      },
      "execution_count": 53,
      "outputs": [
        {
          "output_type": "execute_result",
          "data": {
            "text/plain": [
              "3"
            ]
          },
          "metadata": {},
          "execution_count": 53
        }
      ]
    },
    {
      "cell_type": "code",
      "source": [
        "False & False # & อ่านว่า และ"
      ],
      "metadata": {
        "colab": {
          "base_uri": "https://localhost:8080/"
        },
        "id": "6XjXwkvgh7eV",
        "outputId": "82a2b07d-0d67-454c-e8b8-befac4b8169d"
      },
      "execution_count": 54,
      "outputs": [
        {
          "output_type": "execute_result",
          "data": {
            "text/plain": [
              "False"
            ]
          },
          "metadata": {},
          "execution_count": 54
        }
      ]
    },
    {
      "cell_type": "code",
      "source": [
        "False & True # & อ่านว่า และ"
      ],
      "metadata": {
        "colab": {
          "base_uri": "https://localhost:8080/"
        },
        "id": "6nCAJeLliCJ5",
        "outputId": "cc3737e0-b294-47b8-9672-dd19e07fbbdd"
      },
      "execution_count": 55,
      "outputs": [
        {
          "output_type": "execute_result",
          "data": {
            "text/plain": [
              "False"
            ]
          },
          "metadata": {},
          "execution_count": 55
        }
      ]
    },
    {
      "cell_type": "code",
      "source": [
        "False | True # | หรือ เรียกว่า บาร์"
      ],
      "metadata": {
        "colab": {
          "base_uri": "https://localhost:8080/"
        },
        "id": "R1guOrGWiEbR",
        "outputId": "6304b61b-62f3-47bc-e164-c9b78d1dba03"
      },
      "execution_count": 56,
      "outputs": [
        {
          "output_type": "execute_result",
          "data": {
            "text/plain": [
              "True"
            ]
          },
          "metadata": {},
          "execution_count": 56
        }
      ]
    },
    {
      "cell_type": "markdown",
      "source": [
        "## String Operations "
      ],
      "metadata": {
        "id": "M00wXrBPigel"
      }
    },
    {
      "cell_type": "code",
      "source": [
        "st_test1 = 'Department of Statistics, '\n",
        "st_test2 = 'Faculty of Science'"
      ],
      "metadata": {
        "id": "Vtjhj03nilNF"
      },
      "execution_count": 57,
      "outputs": []
    },
    {
      "cell_type": "code",
      "source": [
        "print(st_test1+st_test2)"
      ],
      "metadata": {
        "id": "eIMf6RiJ1ya1",
        "outputId": "317eab60-b784-4fb7-9608-b66c83000e7a",
        "colab": {
          "base_uri": "https://localhost:8080/"
        }
      },
      "execution_count": 58,
      "outputs": [
        {
          "output_type": "stream",
          "name": "stdout",
          "text": [
            "Department of Statistics, Faculty of Science\n"
          ]
        }
      ]
    },
    {
      "cell_type": "code",
      "source": [
        "print(10*'t')"
      ],
      "metadata": {
        "id": "JpnupPgL1yQo",
        "outputId": "cdee81d8-336c-481a-8d08-45f5de2030ed",
        "colab": {
          "base_uri": "https://localhost:8080/"
        }
      },
      "execution_count": 59,
      "outputs": [
        {
          "output_type": "stream",
          "name": "stdout",
          "text": [
            "tttttttttt\n"
          ]
        }
      ]
    },
    {
      "cell_type": "code",
      "source": [
        "print(3*st_test1)"
      ],
      "metadata": {
        "id": "kkofYLTq1yNQ",
        "outputId": "a57e62b9-290e-44e3-ba91-431a9f13b15e",
        "colab": {
          "base_uri": "https://localhost:8080/"
        }
      },
      "execution_count": 60,
      "outputs": [
        {
          "output_type": "stream",
          "name": "stdout",
          "text": [
            "Department of Statistics, Department of Statistics, Department of Statistics, \n"
          ]
        }
      ]
    },
    {
      "cell_type": "markdown",
      "source": [
        "## Replace() แทนที่ String"
      ],
      "metadata": {
        "id": "ShvOFbKD1WO2"
      }
    },
    {
      "cell_type": "code",
      "source": [
        "st_test1.replace('e',' ')"
      ],
      "metadata": {
        "id": "jFNJgDXi1yLi",
        "outputId": "d43b12f5-7208-4726-dd6a-817496e5585b",
        "colab": {
          "base_uri": "https://localhost:8080/",
          "height": 35
        }
      },
      "execution_count": 61,
      "outputs": [
        {
          "output_type": "execute_result",
          "data": {
            "application/vnd.google.colaboratory.intrinsic+json": {
              "type": "string"
            },
            "text/plain": [
              "'D partm nt of Statistics, '"
            ]
          },
          "metadata": {},
          "execution_count": 61
        }
      ]
    },
    {
      "cell_type": "code",
      "source": [
        "st_test1.replace('e','')"
      ],
      "metadata": {
        "id": "u2WRmr1G1eYC",
        "outputId": "9fae9cb4-b7e6-4fdf-9cba-b7ee6cbc7f9c",
        "colab": {
          "base_uri": "https://localhost:8080/",
          "height": 35
        }
      },
      "execution_count": 62,
      "outputs": [
        {
          "output_type": "execute_result",
          "data": {
            "application/vnd.google.colaboratory.intrinsic+json": {
              "type": "string"
            },
            "text/plain": [
              "'Dpartmnt of Statistics, '"
            ]
          },
          "metadata": {},
          "execution_count": 62
        }
      ]
    },
    {
      "cell_type": "code",
      "source": [
        "st_test1"
      ],
      "metadata": {
        "id": "4WuHLvqy2Wu7",
        "outputId": "a19c57dc-3956-4f0d-cad7-f862d9c7279a",
        "colab": {
          "base_uri": "https://localhost:8080/",
          "height": 35
        }
      },
      "execution_count": 63,
      "outputs": [
        {
          "output_type": "execute_result",
          "data": {
            "application/vnd.google.colaboratory.intrinsic+json": {
              "type": "string"
            },
            "text/plain": [
              "'Department of Statistics, '"
            ]
          },
          "metadata": {},
          "execution_count": 63
        }
      ]
    },
    {
      "cell_type": "markdown",
      "source": [
        "## ```Spilt()``` แยก String"
      ],
      "metadata": {
        "id": "OfOfeprx2bKG"
      }
    },
    {
      "cell_type": "code",
      "source": [
        "'a b c d e f g'.split()"
      ],
      "metadata": {
        "id": "JLQrGje12Z-T",
        "outputId": "a076b823-d42c-482d-d8c0-99006e4c5707",
        "colab": {
          "base_uri": "https://localhost:8080/"
        }
      },
      "execution_count": 64,
      "outputs": [
        {
          "output_type": "execute_result",
          "data": {
            "text/plain": [
              "['a', 'b', 'c', 'd', 'e', 'f', 'g']"
            ]
          },
          "metadata": {},
          "execution_count": 64
        }
      ]
    },
    {
      "cell_type": "code",
      "source": [
        "'a,b/c,d e/f g'.split('/')   ## แยกโดยใช้ /"
      ],
      "metadata": {
        "id": "c6NbDN5r38Jp",
        "outputId": "9af73b1e-9f20-4c51-b7b9-08eff69b2aef",
        "colab": {
          "base_uri": "https://localhost:8080/"
        }
      },
      "execution_count": 66,
      "outputs": [
        {
          "output_type": "execute_result",
          "data": {
            "text/plain": [
              "['a,b', 'c,d e', 'f g']"
            ]
          },
          "metadata": {},
          "execution_count": 66
        }
      ]
    }
  ]
}