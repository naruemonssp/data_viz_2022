{
  "nbformat": 4,
  "nbformat_minor": 0,
  "metadata": {
    "colab": {
      "name": "Project.ipynb",
      "provenance": [],
      "authorship_tag": "ABX9TyPL2fZhqpUOgbgMC+VYuJ67",
      "include_colab_link": true
    },
    "kernelspec": {
      "name": "python3",
      "display_name": "Python 3"
    },
    "language_info": {
      "name": "python"
    }
  },
  "cells": [
    {
      "cell_type": "markdown",
      "metadata": {
        "id": "view-in-github",
        "colab_type": "text"
      },
      "source": [
        "<a href=\"https://colab.research.google.com/github/naruemonssp/data_viz_2022/blob/main/Project.ipynb\" target=\"_parent\"><img src=\"https://colab.research.google.com/assets/colab-badge.svg\" alt=\"Open In Colab\"/></a>"
      ]
    },
    {
      "cell_type": "markdown",
      "source": [
        "สร้างตาราง"
      ],
      "metadata": {
        "id": "chW4cCq8eWi-"
      }
    },
    {
      "cell_type": "code",
      "execution_count": 38,
      "metadata": {
        "id": "qBZaFGMyIqTY"
      },
      "outputs": [],
      "source": [
        "import pandas as pd #import pandas เพื่อนำเอาไปใช้งาน"
      ]
    },
    {
      "cell_type": "markdown",
      "source": [
        "วิธี Dictionary(column oriented) สร้างตัวเเปร data_mhc ขึ้นมา เเล้วกำหนดคอลัมน์ ได้เเก่ จังหวัด, เขตสุขภาพ"
      ],
      "metadata": {
        "id": "b_d0sE3_wq5s"
      }
    },
    {
      "cell_type": "code",
      "source": [
        "data_mhc = {'จังหวัด':['กรุงเทพมหานคร', 'เชียงใหม่', 'แพร่', 'น่าน', 'พะเยา', 'ลำปาง', 'ลำพูน', 'แม่ฮ่องสอน', 'ตาก', 'เพชรบูรณ์', 'พิษณุโลก', 'อุดรดิตถ์',\n",
        "                       'สุโขทัย', 'กำแพงเพชร', 'พิจิตร', 'นครสวรรค์', 'ชัยนาท', 'อุทัยธานี', 'สระบุรี', 'นนทบุรี', 'ลพบุรี', 'อ่างทอง', 'นครนายก', 'สิงห์บุรี',\n",
        "                       'พระนครศรีอยุธยา', 'ปทุมธานี', 'เพชรบุรี', 'สมุทรสาคร', 'สมุทรสงคราม', 'ประจวบคีรีขันธ์', 'สุพรรณบุรี', 'นครปฐม', 'ราชบุรี', 'กาญจนบุรี',\n",
        "                       'กาญจนบุรี', 'สระแก้ว', 'ปราจีนบุรี', 'ฉะเชิงเทรา', 'สมุทรปราการ', 'ชลบุรี', 'จันทบุรี', 'ระยอง', 'ตราด', 'กาฬสินธุ์', 'ขอนแก่น', 'มหาสารคาม',\n",
        "                       'ร้อยเอ็ด', 'อุดรธานี', 'สกลนคร', 'นครพนม', 'เลย', 'หนองคาย', 'หนองบัวลำภู', 'บึงกาฬ', 'ชัยภูมิ', 'นครราชสีมา', 'บุรีรัมย์', 'สุรินทร์',\n",
        "                       'อุบลราชธานี', 'ศรีสะเกษ', 'มุกดาหาร', 'อำนาจเจริญ', 'นครศรีธรรมราช', 'สุราษฎร์ธานี', 'ภูเก็ต', 'กระบี่', 'พังงา', 'ระยอง', 'ชุมพร',\n",
        "                       'สงขลา', 'สตูล', 'ตรัง', 'พัทลุง', 'ปัตตานี', 'ยะลา', 'นราธิวาส'],\n",
        "            'เขตสุขภาพ':['เขตสุขภาพส่วนกลาง', 'เขตสุขภาพที่ 1', 'เขตสุขภาพที่ 1', 'เขตสุขภาพที่ 1', 'เขตสุขภาพที่ 1', 'เขตสุขภาพที่ 1', 'เขตสุขภาพที่ 1', 'เขตสุขภาพที่ 1', 'เขตสุขภาพที่ 1',\n",
        "                         'เขตสุขภาพที่ 2','เขตสุขภาพที่ 2','เขตสุขภาพที่ 2','เขตสุขภาพที่ 2','เขตสุขภาพที่ 2','เขตสุขภาพที่ 3','เขตสุขภาพที่ 3','เขตสุขภาพที่ 3','เขตสุขภาพที่ 3','เขตสุขภาพที่ 3',\n",
        "                         'เขตสุขภาพที่ 4','เขตสุขภาพที่ 4','เขตสุขภาพที่ 4','เขตสุขภาพที่ 4','เขตสุขภาพที่ 4','เขตสุขภาพที่ 4','เขตสุขภาพที่ 4','เขตสุขภาพที่ 4','เขตสุขภาพที่ 5','เขตสุขภาพที่ 5',\n",
        "                         'เขตสุขภาพที่ 5','เขตสุขภาพที่ 5','เขตสุขภาพที่ 5','เขตสุขภาพที่ 5','เขตสุขภาพที่ 5','เขตสุขภาพที่ 5','เขตสุขภาพที่ 6','เขตสุขภาพที่ 6','เขตสุขภาพที่ 6','เขตสุขภาพที่ 6',\n",
        "                         'เขตสุขภาพที่ 6','เขตสุขภาพที่ 6','เขตสุขภาพที่ 6','เขตสุขภาพที่ 6','เขตสุขภาพที่ 7','เขตสุขภาพที่ 7','เขตสุขภาพที่ 7','เขตสุขภาพที่ 7','เขตสุขภาพที่ 8','เขตสุขภาพที่ 8',\n",
        "                         'เขตสุขภาพที่ 8','เขตสุขภาพที่ 8','เขตสุขภาพที่ 8','เขตสุขภาพที่ 8','เขตสุขภาพที่ 8','เขตสุขภาพที่ 9','เขตสุขภาพที่ 9','เขตสุขภาพที่ 9','เขตสุขภาพที่ 9','เขตสุขภาพที่ 10',\n",
        "                         'เขตสุขภาพที่ 10','เขตสุขภาพที่ 10','เขตสุขภาพที่ 10','เขตสุขภาพที่ 11','เขตสุขภาพที่ 11','เขตสุขภาพที่ 11','เขตสุขภาพที่ 11','เขตสุขภาพที่ 11','เขตสุขภาพที่ 11','เขตสุขภาพที่ 11',\n",
        "                         'เขตสุขภาพที่ 12','เขตสุขภาพที่ 12','เขตสุขภาพที่ 12','เขตสุขภาพที่ 12','เขตสุขภาพที่ 12','เขตสุขภาพที่ 12','เขตสุขภาพที่ 12']\n",
        "                             \n",
        "             }"
      ],
      "metadata": {
        "id": "TFfkC9GkzBZp"
      },
      "execution_count": 41,
      "outputs": []
    },
    {
      "cell_type": "code",
      "source": [
        "table_all = pd.DataFrame.from_dict(data_mhc)  # สร้างตาราง pandas จาก data_mhc \n",
        "table_all #เเสดงข้อมูลในตารางทั้งหมด"
      ],
      "metadata": {
        "colab": {
          "base_uri": "https://localhost:8080/",
          "height": 424
        },
        "id": "OgFJJrOHlGFx",
        "outputId": "889cf196-561d-4fea-ef5f-a77330381454"
      },
      "execution_count": 42,
      "outputs": [
        {
          "output_type": "execute_result",
          "data": {
            "text/plain": [
              "          จังหวัด          เขตสุขภาพ\n",
              "0   กรุงเทพมหานคร  เขตสุขภาพส่วนกลาง\n",
              "1       เชียงใหม่     เขตสุขภาพที่ 1\n",
              "2            แพร่     เขตสุขภาพที่ 1\n",
              "3            น่าน     เขตสุขภาพที่ 1\n",
              "4           พะเยา     เขตสุขภาพที่ 1\n",
              "..            ...                ...\n",
              "71           ตรัง    เขตสุขภาพที่ 12\n",
              "72         พัทลุง    เขตสุขภาพที่ 12\n",
              "73        ปัตตานี    เขตสุขภาพที่ 12\n",
              "74           ยะลา    เขตสุขภาพที่ 12\n",
              "75       นราธิวาส    เขตสุขภาพที่ 12\n",
              "\n",
              "[76 rows x 2 columns]"
            ],
            "text/html": [
              "\n",
              "  <div id=\"df-5cd24500-5eec-4c80-9457-c0eb420924b3\">\n",
              "    <div class=\"colab-df-container\">\n",
              "      <div>\n",
              "<style scoped>\n",
              "    .dataframe tbody tr th:only-of-type {\n",
              "        vertical-align: middle;\n",
              "    }\n",
              "\n",
              "    .dataframe tbody tr th {\n",
              "        vertical-align: top;\n",
              "    }\n",
              "\n",
              "    .dataframe thead th {\n",
              "        text-align: right;\n",
              "    }\n",
              "</style>\n",
              "<table border=\"1\" class=\"dataframe\">\n",
              "  <thead>\n",
              "    <tr style=\"text-align: right;\">\n",
              "      <th></th>\n",
              "      <th>จังหวัด</th>\n",
              "      <th>เขตสุขภาพ</th>\n",
              "    </tr>\n",
              "  </thead>\n",
              "  <tbody>\n",
              "    <tr>\n",
              "      <th>0</th>\n",
              "      <td>กรุงเทพมหานคร</td>\n",
              "      <td>เขตสุขภาพส่วนกลาง</td>\n",
              "    </tr>\n",
              "    <tr>\n",
              "      <th>1</th>\n",
              "      <td>เชียงใหม่</td>\n",
              "      <td>เขตสุขภาพที่ 1</td>\n",
              "    </tr>\n",
              "    <tr>\n",
              "      <th>2</th>\n",
              "      <td>แพร่</td>\n",
              "      <td>เขตสุขภาพที่ 1</td>\n",
              "    </tr>\n",
              "    <tr>\n",
              "      <th>3</th>\n",
              "      <td>น่าน</td>\n",
              "      <td>เขตสุขภาพที่ 1</td>\n",
              "    </tr>\n",
              "    <tr>\n",
              "      <th>4</th>\n",
              "      <td>พะเยา</td>\n",
              "      <td>เขตสุขภาพที่ 1</td>\n",
              "    </tr>\n",
              "    <tr>\n",
              "      <th>...</th>\n",
              "      <td>...</td>\n",
              "      <td>...</td>\n",
              "    </tr>\n",
              "    <tr>\n",
              "      <th>71</th>\n",
              "      <td>ตรัง</td>\n",
              "      <td>เขตสุขภาพที่ 12</td>\n",
              "    </tr>\n",
              "    <tr>\n",
              "      <th>72</th>\n",
              "      <td>พัทลุง</td>\n",
              "      <td>เขตสุขภาพที่ 12</td>\n",
              "    </tr>\n",
              "    <tr>\n",
              "      <th>73</th>\n",
              "      <td>ปัตตานี</td>\n",
              "      <td>เขตสุขภาพที่ 12</td>\n",
              "    </tr>\n",
              "    <tr>\n",
              "      <th>74</th>\n",
              "      <td>ยะลา</td>\n",
              "      <td>เขตสุขภาพที่ 12</td>\n",
              "    </tr>\n",
              "    <tr>\n",
              "      <th>75</th>\n",
              "      <td>นราธิวาส</td>\n",
              "      <td>เขตสุขภาพที่ 12</td>\n",
              "    </tr>\n",
              "  </tbody>\n",
              "</table>\n",
              "<p>76 rows × 2 columns</p>\n",
              "</div>\n",
              "      <button class=\"colab-df-convert\" onclick=\"convertToInteractive('df-5cd24500-5eec-4c80-9457-c0eb420924b3')\"\n",
              "              title=\"Convert this dataframe to an interactive table.\"\n",
              "              style=\"display:none;\">\n",
              "        \n",
              "  <svg xmlns=\"http://www.w3.org/2000/svg\" height=\"24px\"viewBox=\"0 0 24 24\"\n",
              "       width=\"24px\">\n",
              "    <path d=\"M0 0h24v24H0V0z\" fill=\"none\"/>\n",
              "    <path d=\"M18.56 5.44l.94 2.06.94-2.06 2.06-.94-2.06-.94-.94-2.06-.94 2.06-2.06.94zm-11 1L8.5 8.5l.94-2.06 2.06-.94-2.06-.94L8.5 2.5l-.94 2.06-2.06.94zm10 10l.94 2.06.94-2.06 2.06-.94-2.06-.94-.94-2.06-.94 2.06-2.06.94z\"/><path d=\"M17.41 7.96l-1.37-1.37c-.4-.4-.92-.59-1.43-.59-.52 0-1.04.2-1.43.59L10.3 9.45l-7.72 7.72c-.78.78-.78 2.05 0 2.83L4 21.41c.39.39.9.59 1.41.59.51 0 1.02-.2 1.41-.59l7.78-7.78 2.81-2.81c.8-.78.8-2.07 0-2.86zM5.41 20L4 18.59l7.72-7.72 1.47 1.35L5.41 20z\"/>\n",
              "  </svg>\n",
              "      </button>\n",
              "      \n",
              "  <style>\n",
              "    .colab-df-container {\n",
              "      display:flex;\n",
              "      flex-wrap:wrap;\n",
              "      gap: 12px;\n",
              "    }\n",
              "\n",
              "    .colab-df-convert {\n",
              "      background-color: #E8F0FE;\n",
              "      border: none;\n",
              "      border-radius: 50%;\n",
              "      cursor: pointer;\n",
              "      display: none;\n",
              "      fill: #1967D2;\n",
              "      height: 32px;\n",
              "      padding: 0 0 0 0;\n",
              "      width: 32px;\n",
              "    }\n",
              "\n",
              "    .colab-df-convert:hover {\n",
              "      background-color: #E2EBFA;\n",
              "      box-shadow: 0px 1px 2px rgba(60, 64, 67, 0.3), 0px 1px 3px 1px rgba(60, 64, 67, 0.15);\n",
              "      fill: #174EA6;\n",
              "    }\n",
              "\n",
              "    [theme=dark] .colab-df-convert {\n",
              "      background-color: #3B4455;\n",
              "      fill: #D2E3FC;\n",
              "    }\n",
              "\n",
              "    [theme=dark] .colab-df-convert:hover {\n",
              "      background-color: #434B5C;\n",
              "      box-shadow: 0px 1px 3px 1px rgba(0, 0, 0, 0.15);\n",
              "      filter: drop-shadow(0px 1px 2px rgba(0, 0, 0, 0.3));\n",
              "      fill: #FFFFFF;\n",
              "    }\n",
              "  </style>\n",
              "\n",
              "      <script>\n",
              "        const buttonEl =\n",
              "          document.querySelector('#df-5cd24500-5eec-4c80-9457-c0eb420924b3 button.colab-df-convert');\n",
              "        buttonEl.style.display =\n",
              "          google.colab.kernel.accessAllowed ? 'block' : 'none';\n",
              "\n",
              "        async function convertToInteractive(key) {\n",
              "          const element = document.querySelector('#df-5cd24500-5eec-4c80-9457-c0eb420924b3');\n",
              "          const dataTable =\n",
              "            await google.colab.kernel.invokeFunction('convertToInteractive',\n",
              "                                                     [key], {});\n",
              "          if (!dataTable) return;\n",
              "\n",
              "          const docLinkHtml = 'Like what you see? Visit the ' +\n",
              "            '<a target=\"_blank\" href=https://colab.research.google.com/notebooks/data_table.ipynb>data table notebook</a>'\n",
              "            + ' to learn more about interactive tables.';\n",
              "          element.innerHTML = '';\n",
              "          dataTable['output_type'] = 'display_data';\n",
              "          await google.colab.output.renderOutput(dataTable, element);\n",
              "          const docLink = document.createElement('div');\n",
              "          docLink.innerHTML = docLinkHtml;\n",
              "          element.appendChild(docLink);\n",
              "        }\n",
              "      </script>\n",
              "    </div>\n",
              "  </div>\n",
              "  "
            ]
          },
          "metadata": {},
          "execution_count": 42
        }
      ]
    },
    {
      "cell_type": "code",
      "source": [
        ""
      ],
      "metadata": {
        "id": "u9fdjpkxlw6R"
      },
      "execution_count": null,
      "outputs": []
    }
  ]
}